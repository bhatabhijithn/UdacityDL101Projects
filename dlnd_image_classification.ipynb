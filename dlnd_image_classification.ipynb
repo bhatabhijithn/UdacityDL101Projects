{
 "cells": [
  {
   "cell_type": "markdown",
   "metadata": {
    "collapsed": true,
    "deletable": true,
    "editable": true
   },
   "source": [
    "# Image Classification\n",
    "In this project, you'll classify images from the [CIFAR-10 dataset](https://www.cs.toronto.edu/~kriz/cifar.html).  The dataset consists of airplanes, dogs, cats, and other objects. You'll preprocess the images, then train a convolutional neural network on all the samples. The images need to be normalized and the labels need to be one-hot encoded.  You'll get to apply what you learned and build a convolutional, max pooling, dropout, and fully connected layers.  At the end, you'll get to see your neural network's predictions on the sample images.\n",
    "## Get the Data\n",
    "Run the following cell to download the [CIFAR-10 dataset for python](https://www.cs.toronto.edu/~kriz/cifar-10-python.tar.gz)."
   ]
  },
  {
   "cell_type": "code",
   "execution_count": 1,
   "metadata": {
    "collapsed": false,
    "deletable": true,
    "editable": true
   },
   "outputs": [
    {
     "name": "stderr",
     "output_type": "stream",
     "text": [
      "CIFAR-10 Dataset: 171MB [00:10, 16.9MB/s]                              \n"
     ]
    },
    {
     "name": "stdout",
     "output_type": "stream",
     "text": [
      "All files found!\n"
     ]
    }
   ],
   "source": [
    "\"\"\"\n",
    "DON'T MODIFY ANYTHING IN THIS CELL THAT IS BELOW THIS LINE\n",
    "\"\"\"\n",
    "from urllib.request import urlretrieve\n",
    "from os.path import isfile, isdir\n",
    "from tqdm import tqdm\n",
    "import problem_unittests as tests\n",
    "import tarfile\n",
    "\n",
    "cifar10_dataset_folder_path = 'cifar-10-batches-py'\n",
    "\n",
    "# Use Floyd's cifar-10 dataset if present\n",
    "floyd_cifar10_location = '/input/cifar-10/python.tar.gz'\n",
    "if isfile(floyd_cifar10_location):\n",
    "    tar_gz_path = floyd_cifar10_location\n",
    "else:\n",
    "    tar_gz_path = 'cifar-10-python.tar.gz'\n",
    "\n",
    "class DLProgress(tqdm):\n",
    "    last_block = 0\n",
    "\n",
    "    def hook(self, block_num=1, block_size=1, total_size=None):\n",
    "        self.total = total_size\n",
    "        self.update((block_num - self.last_block) * block_size)\n",
    "        self.last_block = block_num\n",
    "\n",
    "if not isfile(tar_gz_path):\n",
    "    with DLProgress(unit='B', unit_scale=True, miniters=1, desc='CIFAR-10 Dataset') as pbar:\n",
    "        urlretrieve(\n",
    "            'https://www.cs.toronto.edu/~kriz/cifar-10-python.tar.gz',\n",
    "            tar_gz_path,\n",
    "            pbar.hook)\n",
    "\n",
    "if not isdir(cifar10_dataset_folder_path):\n",
    "    with tarfile.open(tar_gz_path) as tar:\n",
    "        tar.extractall()\n",
    "        tar.close()\n",
    "\n",
    "\n",
    "tests.test_folder_path(cifar10_dataset_folder_path)"
   ]
  },
  {
   "cell_type": "markdown",
   "metadata": {
    "deletable": true,
    "editable": true
   },
   "source": [
    "## Explore the Data\n",
    "The dataset is broken into batches to prevent your machine from running out of memory.  The CIFAR-10 dataset consists of 5 batches, named `data_batch_1`, `data_batch_2`, etc.. Each batch contains the labels and images that are one of the following:\n",
    "* airplane\n",
    "* automobile\n",
    "* bird\n",
    "* cat\n",
    "* deer\n",
    "* dog\n",
    "* frog\n",
    "* horse\n",
    "* ship\n",
    "* truck\n",
    "\n",
    "Understanding a dataset is part of making predictions on the data.  Play around with the code cell below by changing the `batch_id` and `sample_id`. The `batch_id` is the id for a batch (1-5). The `sample_id` is the id for a image and label pair in the batch.\n",
    "\n",
    "Ask yourself \"What are all possible labels?\", \"What is the range of values for the image data?\", \"Are the labels in order or random?\".  Answers to questions like these will help you preprocess the data and end up with better predictions."
   ]
  },
  {
   "cell_type": "code",
   "execution_count": 2,
   "metadata": {
    "collapsed": false,
    "deletable": true,
    "editable": true
   },
   "outputs": [
    {
     "name": "stdout",
     "output_type": "stream",
     "text": [
      "\n",
      "Stats of batch 3:\n",
      "Samples: 10000\n",
      "Label Counts: {0: 994, 1: 1042, 2: 965, 3: 997, 4: 990, 5: 1029, 6: 978, 7: 1015, 8: 961, 9: 1029}\n",
      "First 20 Labels: [8, 5, 0, 6, 9, 2, 8, 3, 6, 2, 7, 4, 6, 9, 0, 0, 7, 3, 7, 2]\n",
      "\n",
      "Example of Image 54:\n",
      "Image - Min Value: 9 Max Value: 196\n",
      "Image - Shape: (32, 32, 3)\n",
      "Label - Label Id: 4 Name: deer\n"
     ]
    },
    {
     "data": {
      "image/png": "[encoded data removed]",
      "text/plain": [
       "<matplotlib.figure.Figure at 0x7fbd386cb710>"
      ]
     },
     "metadata": {
      "image/png": {
       "height": 250,
       "width": 253
      }
     },
     "output_type": "display_data"
    }
   ],
   "source": [
    "%matplotlib inline\n",
    "%config InlineBackend.figure_format = 'retina'\n",
    "\n",
    "import helper\n",
    "import numpy as np\n",
    "\n",
    "# Explore the dataset\n",
    "batch_id = 3\n",
    "sample_id = 54\n",
    "helper.display_stats(cifar10_dataset_folder_path, batch_id, sample_id)"
   ]
  },
  {
   "cell_type": "markdown",
   "metadata": {
    "deletable": true,
    "editable": true
   },
   "source": [
    "## Implement Preprocess Functions\n",
    "### Normalize\n",
    "In the cell below, implement the `normalize` function to take in image data, `x`, and return it as a normalized Numpy array. The values should be in the range of 0 to 1, inclusive.  The return object should be the same shape as `x`."
   ]
  },
  {
   "cell_type": "code",
   "execution_count": 3,
   "metadata": {
    "collapsed": false,
    "deletable": true,
    "editable": true
   },
   "outputs": [
    {
     "name": "stdout",
     "output_type": "stream",
     "text": [
      "(46, 32, 32, 3)\n"
     ]
    }
   ],
   "source": [
    "test_shape = (np.random.choice(range(1000)), 32, 32, 3)\n",
    "print (test_shape)"
   ]
  },
  {
   "cell_type": "code",
   "execution_count": 4,
   "metadata": {
    "collapsed": false,
    "deletable": true,
    "editable": true
   },
   "outputs": [
    {
     "name": "stdout",
     "output_type": "stream",
     "text": [
      "Tests Passed\n"
     ]
    }
   ],
   "source": [
    "def normalize(x):\n",
    "    \"\"\"\n",
    "    Normalize a list of sample image data in the range of 0 to 1\n",
    "    : x: List of image data.  The image shape is (32, 32, 3)\n",
    "    : return: Numpy array of normalize data\n",
    "    \"\"\"\n",
    "    # TODO: Implement Function\n",
    "    #print (x/np.max(x, axis = 0))\n",
    "    return x/np.max(x, axis = 0) #added axis = 0 ref: http://cs231n.github.io/neural-networks-2/\n",
    "\n",
    "\n",
    "\"\"\"\n",
    "DON'T MODIFY ANYTHING IN THIS CELL THAT IS BELOW THIS LINE\n",
    "\"\"\"\n",
    "tests.test_normalize(normalize)"
   ]
  },
  {
   "cell_type": "markdown",
   "metadata": {
    "deletable": true,
    "editable": true
   },
   "source": [
    "### One-hot encode\n",
    "Just like the previous code cell, you'll be implementing a function for preprocessing.  This time, you'll implement the `one_hot_encode` function. The input, `x`, are a list of labels.  Implement the function to return the list of labels as One-Hot encoded Numpy array.  The possible values for labels are 0 to 9. The one-hot encoding function should return the same encoding for each value between each call to `one_hot_encode`.  Make sure to save the map of encodings outside the function.\n",
    "\n",
    "Hint: Don't reinvent the wheel."
   ]
  },
  {
   "cell_type": "code",
   "execution_count": 5,
   "metadata": {
    "collapsed": false,
    "deletable": true,
    "editable": true
   },
   "outputs": [
    {
     "name": "stdout",
     "output_type": "stream",
     "text": [
      "Tests Passed\n"
     ]
    }
   ],
   "source": [
    "from sklearn import preprocessing\n",
    "\n",
    "\n",
    "\n",
    "def one_hot_encode(x):\n",
    "    \"\"\"\n",
    "    One hot encode a list of sample labels. Return a one-hot encoded vector for each label.\n",
    "    : x: List of sample Labels\n",
    "    : return: Numpy array of one-hot encoded labels\n",
    "    \"\"\"\n",
    "    # TODO: Implement Function\n",
    "    # Create the encoder\n",
    "    #lb = preprocessing.LabelBinarizer()\n",
    "    # Here the encoder finds the classes and assigns one-hot vectors \n",
    "    #lb.fit(x)\n",
    "    #return lb.transform(x)\n",
    "    \n",
    "    #Attempt 2 RefLink - http://techqa.info/programming/question/37292872/how-can-i-one-hot-encode-in-python #Dieter\n",
    "    targets = np.array(x).reshape(-1)\n",
    "    one_hot_targets = np.eye(10)[targets]\n",
    "    return one_hot_targets\n",
    "\n",
    "\n",
    "\"\"\"\n",
    "DON'T MODIFY ANYTHING IN THIS CELL THAT IS BELOW THIS LINE\n",
    "\"\"\"\n",
    "tests.test_one_hot_encode(one_hot_encode)"
   ]
  },
  {
   "cell_type": "markdown",
   "metadata": {
    "deletable": true,
    "editable": true
   },
   "source": [
    "### Randomize Data\n",
    "As you saw from exploring the data above, the order of the samples are randomized.  It doesn't hurt to randomize it again, but you don't need to for this dataset."
   ]
  },
  {
   "cell_type": "markdown",
   "metadata": {
    "deletable": true,
    "editable": true
   },
   "source": [
    "## Preprocess all the data and save it\n",
    "Running the code cell below will preprocess all the CIFAR-10 data and save it to file. The code below also uses 10% of the training data for validation."
   ]
  },
  {
   "cell_type": "code",
   "execution_count": 6,
   "metadata": {
    "collapsed": true,
    "deletable": true,
    "editable": true
   },
   "outputs": [],
   "source": [
    "\"\"\"\n",
    "DON'T MODIFY ANYTHING IN THIS CELL\n",
    "\"\"\"\n",
    "# Preprocess Training, Validation, and Testing Data\n",
    "helper.preprocess_and_save_data(cifar10_dataset_folder_path, normalize, one_hot_encode)"
   ]
  },
  {
   "cell_type": "markdown",
   "metadata": {
    "deletable": true,
    "editable": true
   },
   "source": [
    "# Check Point\n",
    "This is your first checkpoint.  If you ever decide to come back to this notebook or have to restart the notebook, you can start from here.  The preprocessed data has been saved to disk."
   ]
  },
  {
   "cell_type": "code",
   "execution_count": 7,
   "metadata": {
    "collapsed": true,
    "deletable": true,
    "editable": true
   },
   "outputs": [],
   "source": [
    "\"\"\"\n",
    "DON'T MODIFY ANYTHING IN THIS CELL\n",
    "\"\"\"\n",
    "import pickle\n",
    "import problem_unittests as tests\n",
    "import helper\n",
    "\n",
    "# Load the Preprocessed Validation data\n",
    "valid_features, valid_labels = pickle.load(open('preprocess_validation.p', mode='rb'))"
   ]
  },
  {
   "cell_type": "markdown",
   "metadata": {
    "deletable": true,
    "editable": true
   },
   "source": [
    "## Build the network\n",
    "For the neural network, you'll build each layer into a function.  Most of the code you've seen has been outside of functions. To test your code more thoroughly, we require that you put each layer in a function.  This allows us to give you better feedback and test for simple mistakes using our unittests before you submit your project.\n",
    "\n",
    ">**Note:** If you're finding it hard to dedicate enough time for this course each week, we've provided a small shortcut to this part of the project. In the next couple of problems, you'll have the option to use classes from the [TensorFlow Layers](https://www.tensorflow.org/api_docs/python/tf/layers) or [TensorFlow Layers (contrib)](https://www.tensorflow.org/api_guides/python/contrib.layers) packages to build each layer, except the layers you build in the \"Convolutional and Max Pooling Layer\" section.  TF Layers is similar to Keras's and TFLearn's abstraction to layers, so it's easy to pickup.\n",
    "\n",
    ">However, if you would like to get the most out of this course, try to solve all the problems _without_ using anything from the TF Layers packages. You **can** still use classes from other packages that happen to have the same name as ones you find in TF Layers! For example, instead of using the TF Layers version of the `conv2d` class, [tf.layers.conv2d](https://www.tensorflow.org/api_docs/python/tf/layers/conv2d), you would want to use the TF Neural Network version of `conv2d`, [tf.nn.conv2d](https://www.tensorflow.org/api_docs/python/tf/nn/conv2d). \n",
    "\n",
    "Let's begin!\n",
    "\n",
    "### Input\n",
    "The neural network needs to read the image data, one-hot encoded labels, and dropout keep probability. Implement the following functions\n",
    "* Implement `neural_net_image_input`\n",
    " * Return a [TF Placeholder](https://www.tensorflow.org/api_docs/python/tf/placeholder)\n",
    " * Set the shape using `image_shape` with batch size set to `None`.\n",
    " * Name the TensorFlow placeholder \"x\" using the TensorFlow `name` parameter in the [TF Placeholder](https://www.tensorflow.org/api_docs/python/tf/placeholder).\n",
    "* Implement `neural_net_label_input`\n",
    " * Return a [TF Placeholder](https://www.tensorflow.org/api_docs/python/tf/placeholder)\n",
    " * Set the shape using `n_classes` with batch size set to `None`.\n",
    " * Name the TensorFlow placeholder \"y\" using the TensorFlow `name` parameter in the [TF Placeholder](https://www.tensorflow.org/api_docs/python/tf/placeholder).\n",
    "* Implement `neural_net_keep_prob_input`\n",
    " * Return a [TF Placeholder](https://www.tensorflow.org/api_docs/python/tf/placeholder) for dropout keep probability.\n",
    " * Name the TensorFlow placeholder \"keep_prob\" using the TensorFlow `name` parameter in the [TF Placeholder](https://www.tensorflow.org/api_docs/python/tf/placeholder).\n",
    "\n",
    "These names will be used at the end of the project to load your saved model.\n",
    "\n",
    "Note: `None` for shapes in TensorFlow allow for a dynamic size."
   ]
  },
  {
   "cell_type": "code",
   "execution_count": 8,
   "metadata": {
    "collapsed": false,
    "deletable": true,
    "editable": true
   },
   "outputs": [
    {
     "name": "stdout",
     "output_type": "stream",
     "text": [
      "Image Input Tests Passed.\n",
      "Label Input Tests Passed.\n",
      "Keep Prob Tests Passed.\n"
     ]
    }
   ],
   "source": [
    "import tensorflow as tf\n",
    "\n",
    "def neural_net_image_input(image_shape):\n",
    "    \"\"\"\n",
    "    Return a Tensor for a batch of image input\n",
    "    : image_shape: Shape of the images\n",
    "    : return: Tensor for image input.\n",
    "    \"\"\"\n",
    "    # TODO: Implement Function\n",
    "    #list1 = [None]+ list(image_shape)\n",
    "    #print (list1)\n",
    "    return tf.placeholder(tf.float32, shape = [None, *image_shape], name = \"x\" )\n",
    "\n",
    "\n",
    "def neural_net_label_input(n_classes):\n",
    "    \"\"\"\n",
    "    Return a Tensor for a batch of label input\n",
    "    : n_classes: Number of classes\n",
    "    : return: Tensor for label input.\n",
    "    \"\"\"\n",
    "    # TODO: Implement Function\n",
    "    return tf.placeholder(tf.float32, [None, n_classes], name = \"y\")\n",
    "\n",
    "\n",
    "def neural_net_keep_prob_input():\n",
    "    \"\"\"\n",
    "    Return a Tensor for keep probability\n",
    "    : return: Tensor for keep probability.\n",
    "    \"\"\"\n",
    "    # TODO: Implement Function\n",
    "    return tf.placeholder(tf.float32, name = \"keep_prob\")\n",
    "\n",
    "\n",
    "\"\"\"\n",
    "DON'T MODIFY ANYTHING IN THIS CELL THAT IS BELOW THIS LINE\n",
    "\"\"\"\n",
    "tf.reset_default_graph()\n",
    "tests.test_nn_image_inputs(neural_net_image_input)\n",
    "tests.test_nn_label_inputs(neural_net_label_input)\n",
    "tests.test_nn_keep_prob_inputs(neural_net_keep_prob_input)"
   ]
  },
  {
   "cell_type": "markdown",
   "metadata": {
    "deletable": true,
    "editable": true
   },
   "source": [
    "### Convolution and Max Pooling Layer\n",
    "Convolution layers have a lot of success with images. For this code cell, you should implement the function `conv2d_maxpool` to apply convolution then max pooling:\n",
    "* Create the weight and bias using `conv_ksize`, `conv_num_outputs` and the shape of `x_tensor`.\n",
    "* Apply a convolution to `x_tensor` using weight and `conv_strides`.\n",
    " * We recommend you use same padding, but you're welcome to use any padding.\n",
    "* Add bias\n",
    "* Add a nonlinear activation to the convolution.\n",
    "* Apply Max Pooling using `pool_ksize` and `pool_strides`.\n",
    " * We recommend you use same padding, but you're welcome to use any padding.\n",
    "\n",
    "**Note:** You **can't** use [TensorFlow Layers](https://www.tensorflow.org/api_docs/python/tf/layers) or [TensorFlow Layers (contrib)](https://www.tensorflow.org/api_guides/python/contrib.layers) for **this** layer, but you can still use TensorFlow's [Neural Network](https://www.tensorflow.org/api_docs/python/tf/nn) package. You may still use the shortcut option for all the **other** layers."
   ]
  },
  {
   "cell_type": "code",
   "execution_count": 9,
   "metadata": {
    "collapsed": false,
    "deletable": true,
    "editable": true
   },
   "outputs": [
    {
     "name": "stdout",
     "output_type": "stream",
     "text": [
      "Tests Passed\n"
     ]
    }
   ],
   "source": [
    "def conv2d_maxpool(x_tensor, conv_num_outputs, conv_ksize, conv_strides, pool_ksize, pool_strides):\n",
    "    #print(\"XXXXXXXXXXXXXXXXXX\")\n",
    "    #print(\"X_tensor\", x_tensor, \" conv_num_outputs\" , conv_num_outputs, \" conv_ksize\", conv_ksize, \" conv_strides\", conv_strides,\" pool_ksize\", pool_ksize,\" pool_strides\", pool_strides)\n",
    "    #print(\"XXXXXXXXXXXXXXXXXX\")\n",
    "    \"\"\"\n",
    "    Apply convolution then max pooling to x_tensor\n",
    "    :param x_tensor: TensorFlow Tensor\n",
    "    :param conv_num_outputs: Number of outputs for the convolutional layer\n",
    "    :param conv_ksize: kernal size 2-D Tuple for the convolutional layer\n",
    "    :param conv_strides: Stride 2-D Tuple for convolution\n",
    "    :param pool_ksize: kernal size 2-D Tuple for pool\n",
    "    :param pool_strides: Stride 2-D Tuple for pool\n",
    "    : return: A tensor that represents convolution and max pooling of x_tensor\n",
    "    \"\"\"\n",
    "    # TODO: Implement Function\n",
    "    #print (x_tensor.shape[1])\n",
    "    # Output depth\n",
    "    k_output = conv_num_outputs\n",
    "\n",
    "    # Image Properties\n",
    "    image_width = x_tensor.get_shape().as_list()[1]\n",
    "    image_height = x_tensor.get_shape().as_list()[2]\n",
    "    color_channels = x_tensor.get_shape().as_list()[3]\n",
    "\n",
    "    # Convolution filter\n",
    "    filter_size_width = conv_ksize[0]\n",
    "    #print (\"conv_ksize[0]->\" , conv_ksize[0])\n",
    "    filter_size_height = conv_ksize[1]\n",
    "    \n",
    "    # Input/Image\n",
    "    inputImage = tf.placeholder(\n",
    "        tf.float32,\n",
    "        shape=[None, image_height, image_width, color_channels])\n",
    "\n",
    "    # Weight and bias\n",
    "    weight = tf.Variable(tf.truncated_normal([filter_size_height, filter_size_width, color_channels, k_output], mean=0.0, stddev=0.08))\n",
    "    #weight = tf.Variable(tf.truncated_normal([2,2,3,10]))\n",
    "    bias = tf.Variable(tf.zeros(k_output))\n",
    "\n",
    "    #strides=[1, *conv_strides, 1]\n",
    "    #print (strides)\n",
    "    conv_layer = tf.nn.conv2d(x_tensor, weight, strides=[1, *conv_strides, 1], padding='SAME')\n",
    "    conv_layer = tf.nn.bias_add(conv_layer, bias)\n",
    "    conv_layer = tf.nn.relu(conv_layer)\n",
    "    # Apply Max Pooling\n",
    "    conv_layer = tf.nn.max_pool( conv_layer, ksize= [1, *pool_ksize, 1], strides= [1, *pool_strides, 1], padding='SAME')\n",
    "    return conv_layer \n",
    "\n",
    "\n",
    "\"\"\"\n",
    "DON'T MODIFY ANYTHING IN THIS CELL THAT IS BELOW THIS LINE\n",
    "\"\"\"\n",
    "tests.test_con_pool(conv2d_maxpool)"
   ]
  },
  {
   "cell_type": "markdown",
   "metadata": {
    "deletable": true,
    "editable": true
   },
   "source": [
    "### Flatten Layer\n",
    "Implement the `flatten` function to change the dimension of `x_tensor` from a 4-D tensor to a 2-D tensor.  The output should be the shape (*Batch Size*, *Flattened Image Size*). Shortcut option: you can use classes from the [TensorFlow Layers](https://www.tensorflow.org/api_docs/python/tf/layers) or [TensorFlow Layers (contrib)](https://www.tensorflow.org/api_guides/python/contrib.layers) packages for this layer. For more of a challenge, only use other TensorFlow packages."
   ]
  },
  {
   "cell_type": "code",
   "execution_count": 10,
   "metadata": {
    "collapsed": false,
    "deletable": true,
    "editable": true
   },
   "outputs": [
    {
     "name": "stdout",
     "output_type": "stream",
     "text": [
      "Tests Passed\n"
     ]
    }
   ],
   "source": [
    "def flatten(x_tensor):\n",
    "    #print (x_tensor)\n",
    "    \"\"\"\n",
    "    Flatten x_tensor to (Batch Size, Flattened Image Size)\n",
    "    : x_tensor: A tensor of size (Batch Size, ...), where ... are the image dimensions.\n",
    "    : return: A tensor of size (Batch Size, Flattened Image Size).\n",
    "    \"\"\"\n",
    "    # TODO: Implement Function\n",
    "    #XX = tf.reshape(X, [-1, 28*28])\n",
    "    return tf.reshape(x_tensor,[-1,x_tensor.get_shape().as_list()[1]*x_tensor.get_shape().as_list()[2]*x_tensor.get_shape().as_list()[3] ])\n",
    "\n",
    "\n",
    "\"\"\"\n",
    "DON'T MODIFY ANYTHING IN THIS CELL THAT IS BELOW THIS LINE\n",
    "\"\"\"\n",
    "tests.test_flatten(flatten)"
   ]
  },
  {
   "cell_type": "markdown",
   "metadata": {
    "deletable": true,
    "editable": true
   },
   "source": [
    "### Fully-Connected Layer\n",
    "Implement the `fully_conn` function to apply a fully connected layer to `x_tensor` with the shape (*Batch Size*, *num_outputs*). Shortcut option: you can use classes from the [TensorFlow Layers](https://www.tensorflow.org/api_docs/python/tf/layers) or [TensorFlow Layers (contrib)](https://www.tensorflow.org/api_guides/python/contrib.layers) packages for this layer. For more of a challenge, only use other TensorFlow packages."
   ]
  },
  {
   "cell_type": "code",
   "execution_count": 11,
   "metadata": {
    "collapsed": false,
    "deletable": true,
    "editable": true
   },
   "outputs": [
    {
     "name": "stdout",
     "output_type": "stream",
     "text": [
      "Tests Passed\n"
     ]
    }
   ],
   "source": [
    "def fully_conn(x_tensor, num_outputs):\n",
    "    #print (x_tensor)\n",
    "    #print (num_outputs)\n",
    "    \"\"\"\n",
    "    Apply a fully connected layer to x_tensor using weight and bias\n",
    "    : x_tensor: A 2-D tensor where the first dimension is batch size.\n",
    "    : num_outputs: The number of output that the new tensor should be.\n",
    "    : return: A 2-D tensor where the second dimension is num_outputs.\n",
    "    \"\"\"\n",
    "    # TODO: Implement Function\n",
    "    #return tf.contrib.layers.fully_connected(inputs = x_tensor, num_outputs=num_outputs)\n",
    "    datasize = x_tensor.get_shape().as_list()[1]\n",
    "    weights = tf.Variable(tf.truncated_normal([datasize, num_outputs], mean=0.0, stddev=0.08))\n",
    "    bias = tf.Variable(tf.zeros(num_outputs))\n",
    "    \n",
    "    #Calc\n",
    "    fc = tf.add(tf.matmul(x_tensor, weights), bias)\n",
    "    return tf.nn.relu(fc)\n",
    "\n",
    "\n",
    "\"\"\"\n",
    "DON'T MODIFY ANYTHING IN THIS CELL THAT IS BELOW THIS LINE\n",
    "\"\"\"\n",
    "tests.test_fully_conn(fully_conn)"
   ]
  },
  {
   "cell_type": "markdown",
   "metadata": {
    "deletable": true,
    "editable": true
   },
   "source": [
    "### Output Layer\n",
    "Implement the `output` function to apply a fully connected layer to `x_tensor` with the shape (*Batch Size*, *num_outputs*). Shortcut option: you can use classes from the [TensorFlow Layers](https://www.tensorflow.org/api_docs/python/tf/layers) or [TensorFlow Layers (contrib)](https://www.tensorflow.org/api_guides/python/contrib.layers) packages for this layer. For more of a challenge, only use other TensorFlow packages.\n",
    "\n",
    "**Note:** Activation, softmax, or cross entropy should **not** be applied to this."
   ]
  },
  {
   "cell_type": "code",
   "execution_count": 12,
   "metadata": {
    "collapsed": false,
    "deletable": true,
    "editable": true
   },
   "outputs": [
    {
     "name": "stdout",
     "output_type": "stream",
     "text": [
      "Tests Passed\n"
     ]
    }
   ],
   "source": [
    "def output(x_tensor, num_outputs):\n",
    "    \"\"\"\n",
    "    Apply a output layer to x_tensor using weight and bias\n",
    "    : x_tensor: A 2-D tensor where the first dimension is batch size.\n",
    "    : num_outputs: The number of output that the new tensor should be.\n",
    "    : return: A 2-D tensor where the second dimension is num_outputs.\n",
    "    \"\"\"\n",
    "    # TODO: Implement Function\n",
    "    datasize = x_tensor.get_shape().as_list()[1]\n",
    "    weights = tf.Variable(tf.truncated_normal([datasize, num_outputs], mean=0.0, stddev=0.08))\n",
    "    bias = tf.Variable(tf.zeros(num_outputs))\n",
    "    \n",
    "    #Calc\n",
    "    fc = tf.add(tf.matmul(x_tensor, weights), bias)\n",
    "    return fc\n",
    "\n",
    "\n",
    "\"\"\"\n",
    "DON'T MODIFY ANYTHING IN THIS CELL THAT IS BELOW THIS LINE\n",
    "\"\"\"\n",
    "tests.test_output(output)"
   ]
  },
  {
   "cell_type": "markdown",
   "metadata": {
    "deletable": true,
    "editable": true
   },
   "source": [
    "### Create Convolutional Model\n",
    "Implement the function `conv_net` to create a convolutional neural network model. The function takes in a batch of images, `x`, and outputs logits.  Use the layers you created above to create this model:\n",
    "\n",
    "* Apply 1, 2, or 3 Convolution and Max Pool layers\n",
    "* Apply a Flatten Layer\n",
    "* Apply 1, 2, or 3 Fully Connected Layers\n",
    "* Apply an Output Layer\n",
    "* Return the output\n",
    "* Apply [TensorFlow's Dropout](https://www.tensorflow.org/api_docs/python/tf/nn/dropout) to one or more layers in the model using `keep_prob`. "
   ]
  },
  {
   "cell_type": "code",
   "execution_count": 13,
   "metadata": {
    "collapsed": false,
    "deletable": true,
    "editable": true
   },
   "outputs": [
    {
     "name": "stdout",
     "output_type": "stream",
     "text": [
      "Neural Network Built!\n"
     ]
    }
   ],
   "source": [
    "def conv_net(x, keep_prob):\n",
    "    #print (x, keep_prob)\n",
    "    \"\"\"\n",
    "    Create a convolutional neural network model\n",
    "    : x: Placeholder tensor that holds image data.\n",
    "    : keep_prob: Placeholder tensor that hold dropout keep probability.\n",
    "    : return: Tensor that represents logits\n",
    "    \"\"\"\n",
    "    # TODO: Apply 1, 2, or 3 Convolution and Max Pool layers\n",
    "    #    Play around with different number of outputs, kernel size and stride\n",
    "    # Function Definition from Above:\n",
    "    #    conv2d_maxpool(x_tensor, conv_num_outputs, conv_ksize, conv_strides, pool_ksize, pool_strides)\n",
    "    #X_tensor Tensor(\"Placeholder_56:0\", shape=(?, 32, 32, 5), dtype=float32)  conv_num_outputs 10\n",
    "    #                conv_ksize (2, 2)  conv_strides (4, 4)  pool_ksize (2, 2)  pool_strides (2, 2)\n",
    "\n",
    "    conv1 = conv2d_maxpool(x, 128, (5,5), (2,2), (3,3), (2,2))\n",
    "    conv1 = tf.nn.dropout(conv1, keep_prob)\n",
    "    conv2 = conv2d_maxpool(conv1, 256, (3,3), (1,1), (2,2), (2,2))\n",
    "    #conv2 = tf.nn.dropout(conv2, keep_prob)\n",
    "    #conv3 = conv2d_maxpool(conv2, 64, (2,2), (1,1), (5,5), (1,1))\n",
    "\n",
    "    # TODO: Apply a Flatten Layer\n",
    "    # Function Definition from Above:\n",
    "    #   flatten(x_tensor)\n",
    "    flat = flatten(conv2)\n",
    "\n",
    "    # TODO: Apply 1, 2, or 3 Fully Connected Layers\n",
    "    #    Play around with different number of outputs\n",
    "    # Function Definition from Above:\n",
    "    #   fully_conn(x_tensor, num_outputs)\n",
    "    #FC1 = fully_conn(flat, 2048)\n",
    "    #FC2 = fully_conn(FC1, 2048)\n",
    "    FC1 = fully_conn(flat, 500)\n",
    "    FC1 = tf.nn.dropout(FC1, keep_prob)\n",
    "    FC2 = fully_conn(FC1, 100)\n",
    "    #FC2 = tf.nn.dropout(FC2, keep_prob)\n",
    "    # TODO: Apply an Output Layer\n",
    "    #    Set this to the number of classes\n",
    "    # Function Definition from Above:\n",
    "    #   output(x_tensor, num_outputs)\n",
    "    OutPut = output(FC2, 10)\n",
    "    \n",
    "    # TODO: return output\n",
    "    return OutPut\n",
    "\n",
    "\n",
    "\"\"\"\n",
    "DON'T MODIFY ANYTHING IN THIS CELL THAT IS BELOW THIS LINE\n",
    "\"\"\"\n",
    "\n",
    "##############################\n",
    "## Build the Neural Network ##\n",
    "##############################\n",
    "\n",
    "# Remove previous weights, bias, inputs, etc..\n",
    "tf.reset_default_graph()\n",
    "\n",
    "# Inputs\n",
    "x = neural_net_image_input((32, 32, 3))\n",
    "y = neural_net_label_input(10)\n",
    "keep_prob = neural_net_keep_prob_input()\n",
    "\n",
    "# Model\n",
    "logits = conv_net(x, keep_prob)\n",
    "\n",
    "# Name logits Tensor, so that is can be loaded from disk after training\n",
    "logits = tf.identity(logits, name='logits')\n",
    "\n",
    "# Loss and Optimizer\n",
    "cost = tf.reduce_mean(tf.nn.softmax_cross_entropy_with_logits(logits=logits, labels=y))\n",
    "optimizer = tf.train.AdamOptimizer().minimize(cost)\n",
    "\n",
    "# Accuracy\n",
    "correct_pred = tf.equal(tf.argmax(logits, 1), tf.argmax(y, 1))\n",
    "accuracy = tf.reduce_mean(tf.cast(correct_pred, tf.float32), name='accuracy')\n",
    "\n",
    "tests.test_conv_net(conv_net)"
   ]
  },
  {
   "cell_type": "markdown",
   "metadata": {
    "deletable": true,
    "editable": true
   },
   "source": [
    "## Train the Neural Network\n",
    "### Single Optimization\n",
    "Implement the function `train_neural_network` to do a single optimization.  The optimization should use `optimizer` to optimize in `session` with a `feed_dict` of the following:\n",
    "* `x` for image input\n",
    "* `y` for labels\n",
    "* `keep_prob` for keep probability for dropout\n",
    "\n",
    "This function will be called for each batch, so `tf.global_variables_initializer()` has already been called.\n",
    "\n",
    "Note: Nothing needs to be returned. This function is only optimizing the neural network."
   ]
  },
  {
   "cell_type": "code",
   "execution_count": 14,
   "metadata": {
    "collapsed": false,
    "deletable": true,
    "editable": true
   },
   "outputs": [
    {
     "name": "stdout",
     "output_type": "stream",
     "text": [
      "Tests Passed\n"
     ]
    }
   ],
   "source": [
    "def train_neural_network(session, optimizer, keep_probability, feature_batch, label_batch):\n",
    "    #print(session, optimizer, keep_probability, feature_batch, label_batch)\n",
    "    #print(np.shape(label_batch))\n",
    "    \"\"\"\n",
    "    Optimize the session on a batch of images and labels\n",
    "    : session: Current TensorFlow session\n",
    "    : optimizer: TensorFlow optimizer function\n",
    "    : keep_probability: keep probability\n",
    "    : feature_batch: Batch of Numpy image data\n",
    "    : label_batch: Batch of Numpy label data\n",
    "    \"\"\"\n",
    "    # TODO: Implement Function\n",
    "    #x = tf.placeholder(tf.float32, [None, 32,32,3])\n",
    "    #y = tf.placeholder(tf.float32, [128, 10]) #*(np.shape(label_batch))])\n",
    "    #y = tf.placeholder(tf.float32, [None, *(np.shape(label_batch))])\n",
    "    #print (len(label_batch))\n",
    "    #keep_prob = tf.placeholder(tf.float32)\n",
    "    # Model\n",
    "    #logits = conv_net(x, keep_probability)\n",
    "    # Define loss and optimizer\n",
    "    #cost = tf.reduce_mean(tf.nn.softmax_cross_entropy_with_logits(logits=logits, labels=y))\n",
    "    #optimizer1 = optimizer.minimize(cost)\n",
    "    \n",
    "    return session.run(optimizer, feed_dict={x: feature_batch, y: label_batch, keep_prob: keep_probability})\n",
    "\n",
    "\n",
    "\n",
    "\"\"\"\n",
    "DON'T MODIFY ANYTHING IN THIS CELL THAT IS BELOW THIS LINE\n",
    "\"\"\"\n",
    "tests.test_train_nn(train_neural_network)"
   ]
  },
  {
   "cell_type": "markdown",
   "metadata": {
    "deletable": true,
    "editable": true
   },
   "source": [
    "### Show Stats\n",
    "Implement the function `print_stats` to print loss and validation accuracy.  Use the global variables `valid_features` and `valid_labels` to calculate validation accuracy.  Use a keep probability of `1.0` to calculate the loss and validation accuracy."
   ]
  },
  {
   "cell_type": "code",
   "execution_count": 15,
   "metadata": {
    "collapsed": true,
    "deletable": true,
    "editable": true
   },
   "outputs": [],
   "source": [
    "def print_stats(session, feature_batch, label_batch, cost, accuracy):\n",
    "    #print(session, feature_batch, label_batch, cost, accuracy)\n",
    "    \"\"\"\n",
    "    Print information about loss and validation accuracy\n",
    "    : session: Current TensorFlow session\n",
    "    : feature_batch: Batch of Numpy image data\n",
    "    : label_batch: Batch of Numpy label data\n",
    "    : cost: TensorFlow cost function\n",
    "    : accuracy: TensorFlow accuracy function\n",
    "    \"\"\"\n",
    "    # TODO: Implement Function\n",
    "    loss = session.run(cost, feed_dict={x: feature_batch, y: label_batch, keep_prob: 1})\n",
    "    valid_acc = session.run(accuracy, feed_dict={x: valid_features, y: valid_labels, keep_prob: 1.0})\n",
    "    print('Loss: {:>10.4f} Accuracy: {:.6f}'.format(loss,valid_acc))\n",
    "    #print (\"Loss :\", loss, \"validation accuracy :\", valid_acc)"
   ]
  },
  {
   "cell_type": "markdown",
   "metadata": {
    "deletable": true,
    "editable": true
   },
   "source": [
    "### Hyperparameters\n",
    "Tune the following parameters:\n",
    "* Set `epochs` to the number of iterations until the network stops learning or start overfitting\n",
    "* Set `batch_size` to the highest number that your machine has memory for.  Most people set them to common sizes of memory:\n",
    " * 64\n",
    " * 128\n",
    " * 256\n",
    " * ...\n",
    "* Set `keep_probability` to the probability of keeping a node using dropout"
   ]
  },
  {
   "cell_type": "code",
   "execution_count": 16,
   "metadata": {
    "collapsed": true,
    "deletable": true,
    "editable": true
   },
   "outputs": [],
   "source": [
    "# TODO: Tune Parameters\n",
    "epochs = 100\n",
    "batch_size = 128\n",
    "keep_probability = 0.5"
   ]
  },
  {
   "cell_type": "markdown",
   "metadata": {
    "deletable": true,
    "editable": true
   },
   "source": [
    "### Train on a Single CIFAR-10 Batch\n",
    "Instead of training the neural network on all the CIFAR-10 batches of data, let's use a single batch. This should save time while you iterate on the model to get a better accuracy.  Once the final validation accuracy is 50% or greater, run the model on all the data in the next section."
   ]
  },
  {
   "cell_type": "code",
   "execution_count": 57,
   "metadata": {
    "collapsed": false,
    "deletable": true,
    "editable": true
   },
   "outputs": [
    {
     "name": "stdout",
     "output_type": "stream",
     "text": [
      "Checking the Training on a Single Batch...\n",
      "Epoch  1, CIFAR-10 Batch 1:  Loss:     2.2014 Accuracy: 0.278400\n",
      "Epoch  2, CIFAR-10 Batch 1:  Loss:     1.9892 Accuracy: 0.355600\n",
      "Epoch  3, CIFAR-10 Batch 1:  Loss:     1.7794 Accuracy: 0.411200\n",
      "Epoch  4, CIFAR-10 Batch 1:  Loss:     1.6613 Accuracy: 0.436000\n",
      "Epoch  5, CIFAR-10 Batch 1:  Loss:     1.5904 Accuracy: 0.450400\n",
      "Epoch  6, CIFAR-10 Batch 1:  Loss:     1.4839 Accuracy: 0.474400\n",
      "Epoch  7, CIFAR-10 Batch 1:  Loss:     1.3623 Accuracy: 0.481200\n",
      "Epoch  8, CIFAR-10 Batch 1:  Loss:     1.1951 Accuracy: 0.531800\n",
      "Epoch  9, CIFAR-10 Batch 1:  Loss:     1.1608 Accuracy: 0.530000\n",
      "Epoch 10, CIFAR-10 Batch 1:  Loss:     1.1043 Accuracy: 0.534200\n",
      "Epoch 11, CIFAR-10 Batch 1:  Loss:     1.0207 Accuracy: 0.546200\n",
      "Epoch 12, CIFAR-10 Batch 1:  Loss:     0.9670 Accuracy: 0.571200\n",
      "Epoch 13, CIFAR-10 Batch 1:  Loss:     0.8384 Accuracy: 0.566200\n",
      "Epoch 14, CIFAR-10 Batch 1:  Loss:     0.7838 Accuracy: 0.567600\n",
      "Epoch 15, CIFAR-10 Batch 1:  Loss:     0.6976 Accuracy: 0.582400\n",
      "Epoch 16, CIFAR-10 Batch 1:  Loss:     0.6296 Accuracy: 0.594800\n",
      "Epoch 17, CIFAR-10 Batch 1:  Loss:     0.5574 Accuracy: 0.618200\n",
      "Epoch 18, CIFAR-10 Batch 1:  Loss:     0.5402 Accuracy: 0.618400\n",
      "Epoch 19, CIFAR-10 Batch 1:  Loss:     0.4646 Accuracy: 0.626200\n",
      "Epoch 20, CIFAR-10 Batch 1:  Loss:     0.4090 Accuracy: 0.632400\n",
      "Epoch 21, CIFAR-10 Batch 1:  Loss:     0.4151 Accuracy: 0.629200\n",
      "Epoch 22, CIFAR-10 Batch 1:  Loss:     0.3573 Accuracy: 0.636000\n",
      "Epoch 23, CIFAR-10 Batch 1:  Loss:     0.3204 Accuracy: 0.636800\n",
      "Epoch 24, CIFAR-10 Batch 1:  Loss:     0.2994 Accuracy: 0.638000\n",
      "Epoch 25, CIFAR-10 Batch 1:  Loss:     0.2534 Accuracy: 0.643600\n",
      "Epoch 26, CIFAR-10 Batch 1:  Loss:     0.1874 Accuracy: 0.643200\n",
      "Epoch 27, CIFAR-10 Batch 1:  Loss:     0.1943 Accuracy: 0.647400\n",
      "Epoch 28, CIFAR-10 Batch 1:  Loss:     0.1613 Accuracy: 0.644800\n",
      "Epoch 29, CIFAR-10 Batch 1:  Loss:     0.1515 Accuracy: 0.649000\n",
      "Epoch 30, CIFAR-10 Batch 1:  Loss:     0.1433 Accuracy: 0.651000\n",
      "Epoch 31, CIFAR-10 Batch 1:  Loss:     0.1276 Accuracy: 0.651600\n",
      "Epoch 32, CIFAR-10 Batch 1:  Loss:     0.1153 Accuracy: 0.653600\n",
      "Epoch 33, CIFAR-10 Batch 1:  Loss:     0.0777 Accuracy: 0.657600\n",
      "Epoch 34, CIFAR-10 Batch 1:  Loss:     0.0758 Accuracy: 0.648400\n",
      "Epoch 35, CIFAR-10 Batch 1:  Loss:     0.0570 Accuracy: 0.649800\n",
      "Epoch 36, CIFAR-10 Batch 1:  Loss:     0.0566 Accuracy: 0.643600\n",
      "Epoch 37, CIFAR-10 Batch 1:  Loss:     0.0496 Accuracy: 0.659800\n",
      "Epoch 38, CIFAR-10 Batch 1:  Loss:     0.0302 Accuracy: 0.652000\n",
      "Epoch 39, CIFAR-10 Batch 1:  Loss:     0.0386 Accuracy: 0.656200\n",
      "Epoch 40, CIFAR-10 Batch 1:  Loss:     0.0269 Accuracy: 0.647000\n",
      "Epoch 41, CIFAR-10 Batch 1:  Loss:     0.0311 Accuracy: 0.647200\n",
      "Epoch 42, CIFAR-10 Batch 1:  Loss:     0.0324 Accuracy: 0.649000\n",
      "Epoch 43, CIFAR-10 Batch 1:  Loss:     0.0208 Accuracy: 0.648000\n",
      "Epoch 44, CIFAR-10 Batch 1:  Loss:     0.0239 Accuracy: 0.646000\n",
      "Epoch 45, CIFAR-10 Batch 1:  Loss:     0.0111 Accuracy: 0.655200\n",
      "Epoch 46, CIFAR-10 Batch 1:  Loss:     0.0533 Accuracy: 0.641200\n",
      "Epoch 47, CIFAR-10 Batch 1:  Loss:     0.0142 Accuracy: 0.649800\n",
      "Epoch 48, CIFAR-10 Batch 1:  Loss:     0.0220 Accuracy: 0.646800\n",
      "Epoch 49, CIFAR-10 Batch 1:  Loss:     0.0109 Accuracy: 0.650800\n",
      "Epoch 50, CIFAR-10 Batch 1:  Loss:     0.0080 Accuracy: 0.652000\n",
      "Epoch 51, CIFAR-10 Batch 1:  Loss:     0.0069 Accuracy: 0.659800\n",
      "Epoch 52, CIFAR-10 Batch 1:  Loss:     0.0108 Accuracy: 0.650000\n",
      "Epoch 53, CIFAR-10 Batch 1:  Loss:     0.0066 Accuracy: 0.655800\n",
      "Epoch 54, CIFAR-10 Batch 1:  Loss:     0.0350 Accuracy: 0.638400\n",
      "Epoch 55, CIFAR-10 Batch 1:  Loss:     0.0137 Accuracy: 0.642600\n",
      "Epoch 56, CIFAR-10 Batch 1:  Loss:     0.0080 Accuracy: 0.646200\n",
      "Epoch 57, CIFAR-10 Batch 1:  Loss:     0.0094 Accuracy: 0.639000\n",
      "Epoch 58, CIFAR-10 Batch 1:  Loss:     0.0054 Accuracy: 0.645600\n",
      "Epoch 59, CIFAR-10 Batch 1:  Loss:     0.0022 Accuracy: 0.658400\n",
      "Epoch 60, CIFAR-10 Batch 1:  Loss:     0.0036 Accuracy: 0.651200\n",
      "Epoch 61, CIFAR-10 Batch 1:  Loss:     0.0023 Accuracy: 0.645800\n",
      "Epoch 62, CIFAR-10 Batch 1:  Loss:     0.0028 Accuracy: 0.651600\n",
      "Epoch 63, CIFAR-10 Batch 1:  Loss:     0.0021 Accuracy: 0.656400\n",
      "Epoch 64, CIFAR-10 Batch 1:  Loss:     0.0021 Accuracy: 0.656400\n",
      "Epoch 65, CIFAR-10 Batch 1:  Loss:     0.0035 Accuracy: 0.651400\n",
      "Epoch 66, CIFAR-10 Batch 1:  Loss:     0.0021 Accuracy: 0.653400\n",
      "Epoch 67, CIFAR-10 Batch 1:  Loss:     0.0023 Accuracy: 0.654800\n",
      "Epoch 68, CIFAR-10 Batch 1:  Loss:     0.0009 Accuracy: 0.661200\n",
      "Epoch 69, CIFAR-10 Batch 1:  Loss:     0.0015 Accuracy: 0.657000\n",
      "Epoch 70, CIFAR-10 Batch 1:  Loss:     0.0005 Accuracy: 0.659400\n",
      "Epoch 71, CIFAR-10 Batch 1:  Loss:     0.0006 Accuracy: 0.656200\n",
      "Epoch 72, CIFAR-10 Batch 1:  Loss:     0.0008 Accuracy: 0.663600\n",
      "Epoch 73, CIFAR-10 Batch 1:  Loss:     0.0009 Accuracy: 0.657600\n",
      "Epoch 74, CIFAR-10 Batch 1:  Loss:     0.0007 Accuracy: 0.655600\n",
      "Epoch 75, CIFAR-10 Batch 1:  Loss:     0.0024 Accuracy: 0.651400\n",
      "Epoch 76, CIFAR-10 Batch 1:  Loss:     0.0025 Accuracy: 0.655200\n",
      "Epoch 77, CIFAR-10 Batch 1:  Loss:     0.0004 Accuracy: 0.661600\n",
      "Epoch 78, CIFAR-10 Batch 1:  Loss:     0.0025 Accuracy: 0.657000\n",
      "Epoch 79, CIFAR-10 Batch 1:  Loss:     0.0004 Accuracy: 0.655200\n",
      "Epoch 80, CIFAR-10 Batch 1:  Loss:     0.0001 Accuracy: 0.654800\n",
      "Epoch 81, CIFAR-10 Batch 1:  Loss:     0.0003 Accuracy: 0.660800\n",
      "Epoch 82, CIFAR-10 Batch 1:  Loss:     0.0011 Accuracy: 0.658800\n",
      "Epoch 83, CIFAR-10 Batch 1:  Loss:     0.0009 Accuracy: 0.648800\n",
      "Epoch 84, CIFAR-10 Batch 1:  Loss:     0.0005 Accuracy: 0.653600\n",
      "Epoch 85, CIFAR-10 Batch 1:  Loss:     0.0001 Accuracy: 0.662000\n",
      "Epoch 86, CIFAR-10 Batch 1:  Loss:     0.0010 Accuracy: 0.660000\n",
      "Epoch 87, CIFAR-10 Batch 1:  Loss:     0.0002 Accuracy: 0.655000\n",
      "Epoch 88, CIFAR-10 Batch 1:  Loss:     0.0025 Accuracy: 0.659200\n",
      "Epoch 89, CIFAR-10 Batch 1:  Loss:     0.0003 Accuracy: 0.663400\n",
      "Epoch 90, CIFAR-10 Batch 1:  Loss:     0.0012 Accuracy: 0.664200\n",
      "Epoch 91, CIFAR-10 Batch 1:  Loss:     0.0001 Accuracy: 0.661000\n",
      "Epoch 92, CIFAR-10 Batch 1:  Loss:     0.0002 Accuracy: 0.654200\n",
      "Epoch 93, CIFAR-10 Batch 1:  Loss:     0.0001 Accuracy: 0.660000\n",
      "Epoch 94, CIFAR-10 Batch 1:  Loss:     0.0001 Accuracy: 0.656200\n",
      "Epoch 95, CIFAR-10 Batch 1:  Loss:     0.0001 Accuracy: 0.665000\n",
      "Epoch 96, CIFAR-10 Batch 1:  Loss:     0.0002 Accuracy: 0.656000\n",
      "Epoch 97, CIFAR-10 Batch 1:  Loss:     0.0001 Accuracy: 0.655800\n",
      "Epoch 98, CIFAR-10 Batch 1:  Loss:     0.0000 Accuracy: 0.655600\n",
      "Epoch 99, CIFAR-10 Batch 1:  Loss:     0.0002 Accuracy: 0.657400\n",
      "Epoch 100, CIFAR-10 Batch 1:  Loss:     0.0000 Accuracy: 0.658000\n"
     ]
    }
   ],
   "source": [
    "\"\"\"\n",
    "DON'T MODIFY ANYTHING IN THIS CELL\n",
    "\"\"\"\n",
    "print('Checking the Training on a Single Batch...')\n",
    "with tf.Session() as sess:\n",
    "    # Initializing the variables\n",
    "    sess.run(tf.global_variables_initializer())\n",
    "    \n",
    "    # Training cycle\n",
    "    for epoch in range(epochs):\n",
    "        batch_i = 1\n",
    "        for batch_features, batch_labels in helper.load_preprocess_training_batch(batch_i, batch_size):\n",
    "            train_neural_network(sess, optimizer, keep_probability, batch_features, batch_labels)\n",
    "        print('Epoch {:>2}, CIFAR-10 Batch {}:  '.format(epoch + 1, batch_i), end='')\n",
    "        print_stats(sess, batch_features, batch_labels, cost, accuracy)"
   ]
  },
  {
   "cell_type": "markdown",
   "metadata": {
    "deletable": true,
    "editable": true
   },
   "source": [
    "### Fully Train the Model\n",
    "Now that you got a good accuracy with a single CIFAR-10 batch, try it with all five batches."
   ]
  },
  {
   "cell_type": "code",
   "execution_count": 17,
   "metadata": {
    "collapsed": false,
    "deletable": true,
    "editable": true
   },
   "outputs": [
    {
     "name": "stdout",
     "output_type": "stream",
     "text": [
      "Training...\n",
      "Epoch  1, CIFAR-10 Batch 1:  Loss:     2.1926 Accuracy: 0.218600\n",
      "Epoch  1, CIFAR-10 Batch 2:  Loss:     1.8461 Accuracy: 0.366400\n",
      "Epoch  1, CIFAR-10 Batch 3:  Loss:     1.6831 Accuracy: 0.366800\n",
      "Epoch  1, CIFAR-10 Batch 4:  Loss:     1.6176 Accuracy: 0.428800\n",
      "Epoch  1, CIFAR-10 Batch 5:  Loss:     1.6513 Accuracy: 0.438000\n",
      "Epoch  2, CIFAR-10 Batch 1:  Loss:     1.6488 Accuracy: 0.476600\n",
      "Epoch  2, CIFAR-10 Batch 2:  Loss:     1.5220 Accuracy: 0.483200\n",
      "Epoch  2, CIFAR-10 Batch 3:  Loss:     1.2830 Accuracy: 0.487400\n",
      "Epoch  2, CIFAR-10 Batch 4:  Loss:     1.3868 Accuracy: 0.527800\n",
      "Epoch  2, CIFAR-10 Batch 5:  Loss:     1.4128 Accuracy: 0.541200\n",
      "Epoch  3, CIFAR-10 Batch 1:  Loss:     1.3734 Accuracy: 0.520000\n",
      "Epoch  3, CIFAR-10 Batch 2:  Loss:     1.1890 Accuracy: 0.549600\n",
      "Epoch  3, CIFAR-10 Batch 3:  Loss:     1.0879 Accuracy: 0.562200\n",
      "Epoch  3, CIFAR-10 Batch 4:  Loss:     1.1930 Accuracy: 0.594600\n",
      "Epoch  3, CIFAR-10 Batch 5:  Loss:     1.2391 Accuracy: 0.592800\n",
      "Epoch  4, CIFAR-10 Batch 1:  Loss:     1.2220 Accuracy: 0.591000\n",
      "Epoch  4, CIFAR-10 Batch 2:  Loss:     1.0916 Accuracy: 0.602600\n",
      "Epoch  4, CIFAR-10 Batch 3:  Loss:     1.0595 Accuracy: 0.588400\n",
      "Epoch  4, CIFAR-10 Batch 4:  Loss:     1.0846 Accuracy: 0.614800\n",
      "Epoch  4, CIFAR-10 Batch 5:  Loss:     1.0132 Accuracy: 0.623000\n",
      "Epoch  5, CIFAR-10 Batch 1:  Loss:     0.9485 Accuracy: 0.636200\n",
      "Epoch  5, CIFAR-10 Batch 2:  Loss:     0.9403 Accuracy: 0.647200\n",
      "Epoch  5, CIFAR-10 Batch 3:  Loss:     0.8849 Accuracy: 0.628800\n",
      "Epoch  5, CIFAR-10 Batch 4:  Loss:     1.0002 Accuracy: 0.633600\n",
      "Epoch  5, CIFAR-10 Batch 5:  Loss:     0.9159 Accuracy: 0.653200\n",
      "Epoch  6, CIFAR-10 Batch 1:  Loss:     0.8986 Accuracy: 0.650400\n",
      "Epoch  6, CIFAR-10 Batch 2:  Loss:     0.8980 Accuracy: 0.665800\n",
      "Epoch  6, CIFAR-10 Batch 3:  Loss:     0.7387 Accuracy: 0.645000\n",
      "Epoch  6, CIFAR-10 Batch 4:  Loss:     0.8312 Accuracy: 0.671800\n",
      "Epoch  6, CIFAR-10 Batch 5:  Loss:     0.7229 Accuracy: 0.679000\n",
      "Epoch  7, CIFAR-10 Batch 1:  Loss:     0.7837 Accuracy: 0.674800\n",
      "Epoch  7, CIFAR-10 Batch 2:  Loss:     0.7915 Accuracy: 0.686400\n",
      "Epoch  7, CIFAR-10 Batch 3:  Loss:     0.6251 Accuracy: 0.676000\n",
      "Epoch  7, CIFAR-10 Batch 4:  Loss:     0.7538 Accuracy: 0.672800\n",
      "Epoch  7, CIFAR-10 Batch 5:  Loss:     0.7298 Accuracy: 0.677200\n",
      "Epoch  8, CIFAR-10 Batch 1:  Loss:     0.7014 Accuracy: 0.684600\n",
      "Epoch  8, CIFAR-10 Batch 2:  Loss:     0.7027 Accuracy: 0.693400\n",
      "Epoch  8, CIFAR-10 Batch 3:  Loss:     0.5603 Accuracy: 0.691000\n",
      "Epoch  8, CIFAR-10 Batch 4:  Loss:     0.6090 Accuracy: 0.706000\n",
      "Epoch  8, CIFAR-10 Batch 5:  Loss:     0.6062 Accuracy: 0.689400\n",
      "Epoch  9, CIFAR-10 Batch 1:  Loss:     0.5749 Accuracy: 0.698000\n",
      "Epoch  9, CIFAR-10 Batch 2:  Loss:     0.6528 Accuracy: 0.703200\n",
      "Epoch  9, CIFAR-10 Batch 3:  Loss:     0.5045 Accuracy: 0.690800\n",
      "Epoch  9, CIFAR-10 Batch 4:  Loss:     0.5580 Accuracy: 0.708200\n",
      "Epoch  9, CIFAR-10 Batch 5:  Loss:     0.5569 Accuracy: 0.705000\n",
      "Epoch 10, CIFAR-10 Batch 1:  Loss:     0.5315 Accuracy: 0.710400\n",
      "Epoch 10, CIFAR-10 Batch 2:  Loss:     0.5894 Accuracy: 0.715400\n",
      "Epoch 10, CIFAR-10 Batch 3:  Loss:     0.4034 Accuracy: 0.704200\n",
      "Epoch 10, CIFAR-10 Batch 4:  Loss:     0.5181 Accuracy: 0.703600\n",
      "Epoch 10, CIFAR-10 Batch 5:  Loss:     0.4619 Accuracy: 0.718400\n",
      "Epoch 11, CIFAR-10 Batch 1:  Loss:     0.5152 Accuracy: 0.725800\n",
      "Epoch 11, CIFAR-10 Batch 2:  Loss:     0.5249 Accuracy: 0.728000\n",
      "Epoch 11, CIFAR-10 Batch 3:  Loss:     0.3617 Accuracy: 0.714200\n",
      "Epoch 11, CIFAR-10 Batch 4:  Loss:     0.4319 Accuracy: 0.725000\n",
      "Epoch 11, CIFAR-10 Batch 5:  Loss:     0.4346 Accuracy: 0.730600\n",
      "Epoch 12, CIFAR-10 Batch 1:  Loss:     0.4628 Accuracy: 0.714000\n",
      "Epoch 12, CIFAR-10 Batch 2:  Loss:     0.4796 Accuracy: 0.712000\n",
      "Epoch 12, CIFAR-10 Batch 3:  Loss:     0.3006 Accuracy: 0.735400\n",
      "Epoch 12, CIFAR-10 Batch 4:  Loss:     0.4603 Accuracy: 0.721400\n",
      "Epoch 12, CIFAR-10 Batch 5:  Loss:     0.3316 Accuracy: 0.737600\n",
      "Epoch 13, CIFAR-10 Batch 1:  Loss:     0.3653 Accuracy: 0.726200\n",
      "Epoch 13, CIFAR-10 Batch 2:  Loss:     0.3626 Accuracy: 0.727200\n",
      "Epoch 13, CIFAR-10 Batch 3:  Loss:     0.2459 Accuracy: 0.740000\n",
      "Epoch 13, CIFAR-10 Batch 4:  Loss:     0.3617 Accuracy: 0.732800\n",
      "Epoch 13, CIFAR-10 Batch 5:  Loss:     0.2646 Accuracy: 0.736000\n",
      "Epoch 14, CIFAR-10 Batch 1:  Loss:     0.3703 Accuracy: 0.731400\n",
      "Epoch 14, CIFAR-10 Batch 2:  Loss:     0.3756 Accuracy: 0.732000\n",
      "Epoch 14, CIFAR-10 Batch 3:  Loss:     0.2346 Accuracy: 0.738200\n",
      "Epoch 14, CIFAR-10 Batch 4:  Loss:     0.3678 Accuracy: 0.732200\n",
      "Epoch 14, CIFAR-10 Batch 5:  Loss:     0.2720 Accuracy: 0.739800\n",
      "Epoch 15, CIFAR-10 Batch 1:  Loss:     0.3557 Accuracy: 0.726400\n",
      "Epoch 15, CIFAR-10 Batch 2:  Loss:     0.3035 Accuracy: 0.744400\n",
      "Epoch 15, CIFAR-10 Batch 3:  Loss:     0.1682 Accuracy: 0.742800\n",
      "Epoch 15, CIFAR-10 Batch 4:  Loss:     0.3091 Accuracy: 0.747800\n",
      "Epoch 15, CIFAR-10 Batch 5:  Loss:     0.2112 Accuracy: 0.741400\n",
      "Epoch 16, CIFAR-10 Batch 1:  Loss:     0.2903 Accuracy: 0.726200\n",
      "Epoch 16, CIFAR-10 Batch 2:  Loss:     0.3040 Accuracy: 0.728000\n",
      "Epoch 16, CIFAR-10 Batch 3:  Loss:     0.1870 Accuracy: 0.735800\n",
      "Epoch 16, CIFAR-10 Batch 4:  Loss:     0.2613 Accuracy: 0.744600\n",
      "Epoch 16, CIFAR-10 Batch 5:  Loss:     0.2627 Accuracy: 0.749600\n",
      "Epoch 17, CIFAR-10 Batch 1:  Loss:     0.3516 Accuracy: 0.750200\n",
      "Epoch 17, CIFAR-10 Batch 2:  Loss:     0.2765 Accuracy: 0.744200\n",
      "Epoch 17, CIFAR-10 Batch 3:  Loss:     0.1417 Accuracy: 0.746000\n",
      "Epoch 17, CIFAR-10 Batch 4:  Loss:     0.2320 Accuracy: 0.745600\n",
      "Epoch 17, CIFAR-10 Batch 5:  Loss:     0.2294 Accuracy: 0.739000\n",
      "Epoch 18, CIFAR-10 Batch 1:  Loss:     0.2625 Accuracy: 0.738800\n",
      "Epoch 18, CIFAR-10 Batch 2:  Loss:     0.2487 Accuracy: 0.744600\n",
      "Epoch 18, CIFAR-10 Batch 3:  Loss:     0.1317 Accuracy: 0.751800\n",
      "Epoch 18, CIFAR-10 Batch 4:  Loss:     0.1628 Accuracy: 0.750400\n",
      "Epoch 18, CIFAR-10 Batch 5:  Loss:     0.1820 Accuracy: 0.747600\n",
      "Epoch 19, CIFAR-10 Batch 1:  Loss:     0.2194 Accuracy: 0.753800\n",
      "Epoch 19, CIFAR-10 Batch 2:  Loss:     0.2077 Accuracy: 0.752200\n",
      "Epoch 19, CIFAR-10 Batch 3:  Loss:     0.1816 Accuracy: 0.744400\n",
      "Epoch 19, CIFAR-10 Batch 4:  Loss:     0.1356 Accuracy: 0.750800\n",
      "Epoch 19, CIFAR-10 Batch 5:  Loss:     0.1542 Accuracy: 0.753800\n",
      "Epoch 20, CIFAR-10 Batch 1:  Loss:     0.2081 Accuracy: 0.754400\n",
      "Epoch 20, CIFAR-10 Batch 2:  Loss:     0.1809 Accuracy: 0.757200\n",
      "Epoch 20, CIFAR-10 Batch 3:  Loss:     0.1332 Accuracy: 0.745800\n",
      "Epoch 20, CIFAR-10 Batch 4:  Loss:     0.1470 Accuracy: 0.750800\n",
      "Epoch 20, CIFAR-10 Batch 5:  Loss:     0.1244 Accuracy: 0.749600\n",
      "Epoch 21, CIFAR-10 Batch 1:  Loss:     0.1953 Accuracy: 0.755600\n",
      "Epoch 21, CIFAR-10 Batch 2:  Loss:     0.2130 Accuracy: 0.745400\n",
      "Epoch 21, CIFAR-10 Batch 3:  Loss:     0.1637 Accuracy: 0.750400\n",
      "Epoch 21, CIFAR-10 Batch 4:  Loss:     0.1507 Accuracy: 0.751400\n",
      "Epoch 21, CIFAR-10 Batch 5:  Loss:     0.1111 Accuracy: 0.760800\n",
      "Epoch 22, CIFAR-10 Batch 1:  Loss:     0.1430 Accuracy: 0.755200\n",
      "Epoch 22, CIFAR-10 Batch 2:  Loss:     0.1710 Accuracy: 0.751400\n",
      "Epoch 22, CIFAR-10 Batch 3:  Loss:     0.1105 Accuracy: 0.758000\n",
      "Epoch 22, CIFAR-10 Batch 4:  Loss:     0.0965 Accuracy: 0.759400\n",
      "Epoch 22, CIFAR-10 Batch 5:  Loss:     0.1054 Accuracy: 0.760600\n",
      "Epoch 23, CIFAR-10 Batch 1:  Loss:     0.1544 Accuracy: 0.755600\n",
      "Epoch 23, CIFAR-10 Batch 2:  Loss:     0.1476 Accuracy: 0.764000\n",
      "Epoch 23, CIFAR-10 Batch 3:  Loss:     0.1071 Accuracy: 0.759600\n",
      "Epoch 23, CIFAR-10 Batch 4:  Loss:     0.1589 Accuracy: 0.758400\n",
      "Epoch 23, CIFAR-10 Batch 5:  Loss:     0.1047 Accuracy: 0.762000\n",
      "Epoch 24, CIFAR-10 Batch 1:  Loss:     0.1476 Accuracy: 0.750200\n",
      "Epoch 24, CIFAR-10 Batch 2:  Loss:     0.1221 Accuracy: 0.758200\n",
      "Epoch 24, CIFAR-10 Batch 3:  Loss:     0.0953 Accuracy: 0.755600\n",
      "Epoch 24, CIFAR-10 Batch 4:  Loss:     0.1185 Accuracy: 0.755200\n",
      "Epoch 24, CIFAR-10 Batch 5:  Loss:     0.0859 Accuracy: 0.758600\n",
      "Epoch 25, CIFAR-10 Batch 1:  Loss:     0.1293 Accuracy: 0.751000\n",
      "Epoch 25, CIFAR-10 Batch 2:  Loss:     0.1175 Accuracy: 0.762000\n",
      "Epoch 25, CIFAR-10 Batch 3:  Loss:     0.0668 Accuracy: 0.764400\n",
      "Epoch 25, CIFAR-10 Batch 4:  Loss:     0.0919 Accuracy: 0.757200\n",
      "Epoch 25, CIFAR-10 Batch 5:  Loss:     0.0795 Accuracy: 0.766600\n",
      "Epoch 26, CIFAR-10 Batch 1:  Loss:     0.0858 Accuracy: 0.751200\n",
      "Epoch 26, CIFAR-10 Batch 2:  Loss:     0.1205 Accuracy: 0.761600\n",
      "Epoch 26, CIFAR-10 Batch 3:  Loss:     0.0682 Accuracy: 0.757400\n",
      "Epoch 26, CIFAR-10 Batch 4:  Loss:     0.1122 Accuracy: 0.765600\n",
      "Epoch 26, CIFAR-10 Batch 5:  Loss:     0.0629 Accuracy: 0.761200\n",
      "Epoch 27, CIFAR-10 Batch 1:  Loss:     0.1038 Accuracy: 0.761600\n",
      "Epoch 27, CIFAR-10 Batch 2:  Loss:     0.0850 Accuracy: 0.763000\n",
      "Epoch 27, CIFAR-10 Batch 3:  Loss:     0.0615 Accuracy: 0.762400\n",
      "Epoch 27, CIFAR-10 Batch 4:  Loss:     0.0910 Accuracy: 0.766200\n",
      "Epoch 27, CIFAR-10 Batch 5:  Loss:     0.0593 Accuracy: 0.768400\n",
      "Epoch 28, CIFAR-10 Batch 1:  Loss:     0.0768 Accuracy: 0.755800\n",
      "Epoch 28, CIFAR-10 Batch 2:  Loss:     0.0857 Accuracy: 0.761600\n",
      "Epoch 28, CIFAR-10 Batch 3:  Loss:     0.0577 Accuracy: 0.759200\n",
      "Epoch 28, CIFAR-10 Batch 4:  Loss:     0.0759 Accuracy: 0.762400\n",
      "Epoch 28, CIFAR-10 Batch 5:  Loss:     0.0604 Accuracy: 0.769200\n",
      "Epoch 29, CIFAR-10 Batch 1:  Loss:     0.0896 Accuracy: 0.757400\n",
      "Epoch 29, CIFAR-10 Batch 2:  Loss:     0.0840 Accuracy: 0.764000\n",
      "Epoch 29, CIFAR-10 Batch 3:  Loss:     0.0568 Accuracy: 0.759000\n",
      "Epoch 29, CIFAR-10 Batch 4:  Loss:     0.0766 Accuracy: 0.767800\n",
      "Epoch 29, CIFAR-10 Batch 5:  Loss:     0.0724 Accuracy: 0.765200\n",
      "Epoch 30, CIFAR-10 Batch 1:  Loss:     0.0720 Accuracy: 0.762000\n",
      "Epoch 30, CIFAR-10 Batch 2:  Loss:     0.0968 Accuracy: 0.756600\n",
      "Epoch 30, CIFAR-10 Batch 3:  Loss:     0.0423 Accuracy: 0.765800\n",
      "Epoch 30, CIFAR-10 Batch 4:  Loss:     0.0647 Accuracy: 0.767200\n",
      "Epoch 30, CIFAR-10 Batch 5:  Loss:     0.0602 Accuracy: 0.762400\n",
      "Epoch 31, CIFAR-10 Batch 1:  Loss:     0.0730 Accuracy: 0.763000\n",
      "Epoch 31, CIFAR-10 Batch 2:  Loss:     0.0870 Accuracy: 0.760600\n",
      "Epoch 31, CIFAR-10 Batch 3:  Loss:     0.0478 Accuracy: 0.756800\n",
      "Epoch 31, CIFAR-10 Batch 4:  Loss:     0.0562 Accuracy: 0.761200\n",
      "Epoch 31, CIFAR-10 Batch 5:  Loss:     0.0467 Accuracy: 0.764400\n",
      "Epoch 32, CIFAR-10 Batch 1:  Loss:     0.0643 Accuracy: 0.760200\n",
      "Epoch 32, CIFAR-10 Batch 2:  Loss:     0.0751 Accuracy: 0.762800\n",
      "Epoch 32, CIFAR-10 Batch 3:  Loss:     0.0397 Accuracy: 0.765000\n",
      "Epoch 32, CIFAR-10 Batch 4:  Loss:     0.0484 Accuracy: 0.763800\n",
      "Epoch 32, CIFAR-10 Batch 5:  Loss:     0.0433 Accuracy: 0.769400\n",
      "Epoch 33, CIFAR-10 Batch 1:  Loss:     0.0677 Accuracy: 0.764000\n",
      "Epoch 33, CIFAR-10 Batch 2:  Loss:     0.0738 Accuracy: 0.761400\n",
      "Epoch 33, CIFAR-10 Batch 3:  Loss:     0.0282 Accuracy: 0.761800\n",
      "Epoch 33, CIFAR-10 Batch 4:  Loss:     0.0565 Accuracy: 0.757400\n",
      "Epoch 33, CIFAR-10 Batch 5:  Loss:     0.0415 Accuracy: 0.758000\n",
      "Epoch 34, CIFAR-10 Batch 1:  Loss:     0.0341 Accuracy: 0.758400\n",
      "Epoch 34, CIFAR-10 Batch 2:  Loss:     0.0761 Accuracy: 0.760800\n",
      "Epoch 34, CIFAR-10 Batch 3:  Loss:     0.0434 Accuracy: 0.764400\n",
      "Epoch 34, CIFAR-10 Batch 4:  Loss:     0.0322 Accuracy: 0.765800\n",
      "Epoch 34, CIFAR-10 Batch 5:  Loss:     0.0459 Accuracy: 0.766000\n",
      "Epoch 35, CIFAR-10 Batch 1:  Loss:     0.0729 Accuracy: 0.751600\n",
      "Epoch 35, CIFAR-10 Batch 2:  Loss:     0.0759 Accuracy: 0.761400\n",
      "Epoch 35, CIFAR-10 Batch 3:  Loss:     0.0390 Accuracy: 0.761400\n",
      "Epoch 35, CIFAR-10 Batch 4:  Loss:     0.0555 Accuracy: 0.762800\n",
      "Epoch 35, CIFAR-10 Batch 5:  Loss:     0.0261 Accuracy: 0.759800\n",
      "Epoch 36, CIFAR-10 Batch 1:  Loss:     0.0229 Accuracy: 0.756800\n",
      "Epoch 36, CIFAR-10 Batch 2:  Loss:     0.0309 Accuracy: 0.762200\n",
      "Epoch 36, CIFAR-10 Batch 3:  Loss:     0.0230 Accuracy: 0.758000\n",
      "Epoch 36, CIFAR-10 Batch 4:  Loss:     0.0197 Accuracy: 0.771000\n",
      "Epoch 36, CIFAR-10 Batch 5:  Loss:     0.0284 Accuracy: 0.759600\n",
      "Epoch 37, CIFAR-10 Batch 1:  Loss:     0.0206 Accuracy: 0.761600\n",
      "Epoch 37, CIFAR-10 Batch 2:  Loss:     0.0297 Accuracy: 0.761400\n",
      "Epoch 37, CIFAR-10 Batch 3:  Loss:     0.0373 Accuracy: 0.757600\n",
      "Epoch 37, CIFAR-10 Batch 4:  Loss:     0.0315 Accuracy: 0.769000\n",
      "Epoch 37, CIFAR-10 Batch 5:  Loss:     0.0321 Accuracy: 0.765200\n",
      "Epoch 38, CIFAR-10 Batch 1:  Loss:     0.0228 Accuracy: 0.760200\n",
      "Epoch 38, CIFAR-10 Batch 2:  Loss:     0.0426 Accuracy: 0.767800\n",
      "Epoch 38, CIFAR-10 Batch 3:  Loss:     0.0211 Accuracy: 0.768400\n",
      "Epoch 38, CIFAR-10 Batch 4:  Loss:     0.0389 Accuracy: 0.759200\n",
      "Epoch 38, CIFAR-10 Batch 5:  Loss:     0.0224 Accuracy: 0.757800\n",
      "Epoch 39, CIFAR-10 Batch 1:  Loss:     0.0342 Accuracy: 0.760000\n",
      "Epoch 39, CIFAR-10 Batch 2:  Loss:     0.0291 Accuracy: 0.764200\n",
      "Epoch 39, CIFAR-10 Batch 3:  Loss:     0.0192 Accuracy: 0.767200\n",
      "Epoch 39, CIFAR-10 Batch 4:  Loss:     0.0321 Accuracy: 0.769000\n",
      "Epoch 39, CIFAR-10 Batch 5:  Loss:     0.0333 Accuracy: 0.757800\n",
      "Epoch 40, CIFAR-10 Batch 1:  Loss:     0.0216 Accuracy: 0.763800\n",
      "Epoch 40, CIFAR-10 Batch 2:  Loss:     0.0176 Accuracy: 0.764800\n",
      "Epoch 40, CIFAR-10 Batch 3:  Loss:     0.0123 Accuracy: 0.763400\n",
      "Epoch 40, CIFAR-10 Batch 4:  Loss:     0.0309 Accuracy: 0.775600\n",
      "Epoch 40, CIFAR-10 Batch 5:  Loss:     0.0180 Accuracy: 0.762400\n",
      "Epoch 41, CIFAR-10 Batch 1:  Loss:     0.0164 Accuracy: 0.761200\n",
      "Epoch 41, CIFAR-10 Batch 2:  Loss:     0.0481 Accuracy: 0.762000\n",
      "Epoch 41, CIFAR-10 Batch 3:  Loss:     0.0110 Accuracy: 0.767400\n",
      "Epoch 41, CIFAR-10 Batch 4:  Loss:     0.0202 Accuracy: 0.772200\n",
      "Epoch 41, CIFAR-10 Batch 5:  Loss:     0.0230 Accuracy: 0.768600\n",
      "Epoch 42, CIFAR-10 Batch 1:  Loss:     0.0187 Accuracy: 0.763400\n",
      "Epoch 42, CIFAR-10 Batch 2:  Loss:     0.0228 Accuracy: 0.771400\n",
      "Epoch 42, CIFAR-10 Batch 3:  Loss:     0.0142 Accuracy: 0.759600\n",
      "Epoch 42, CIFAR-10 Batch 4:  Loss:     0.0405 Accuracy: 0.751800\n",
      "Epoch 42, CIFAR-10 Batch 5:  Loss:     0.0257 Accuracy: 0.754600\n",
      "Epoch 43, CIFAR-10 Batch 1:  Loss:     0.0207 Accuracy: 0.764600\n",
      "Epoch 43, CIFAR-10 Batch 2:  Loss:     0.0174 Accuracy: 0.763600\n",
      "Epoch 43, CIFAR-10 Batch 3:  Loss:     0.0105 Accuracy: 0.760600\n",
      "Epoch 43, CIFAR-10 Batch 4:  Loss:     0.0213 Accuracy: 0.770800\n",
      "Epoch 43, CIFAR-10 Batch 5:  Loss:     0.0155 Accuracy: 0.762800\n",
      "Epoch 44, CIFAR-10 Batch 1:  Loss:     0.0122 Accuracy: 0.754400\n",
      "Epoch 44, CIFAR-10 Batch 2:  Loss:     0.0189 Accuracy: 0.766000\n",
      "Epoch 44, CIFAR-10 Batch 3:  Loss:     0.0093 Accuracy: 0.766800\n",
      "Epoch 44, CIFAR-10 Batch 4:  Loss:     0.0237 Accuracy: 0.773200\n",
      "Epoch 44, CIFAR-10 Batch 5:  Loss:     0.0147 Accuracy: 0.760400\n",
      "Epoch 45, CIFAR-10 Batch 1:  Loss:     0.0233 Accuracy: 0.753000\n",
      "Epoch 45, CIFAR-10 Batch 2:  Loss:     0.0160 Accuracy: 0.769600\n",
      "Epoch 45, CIFAR-10 Batch 3:  Loss:     0.0126 Accuracy: 0.768000\n",
      "Epoch 45, CIFAR-10 Batch 4:  Loss:     0.0145 Accuracy: 0.772600\n",
      "Epoch 45, CIFAR-10 Batch 5:  Loss:     0.0192 Accuracy: 0.755200\n",
      "Epoch 46, CIFAR-10 Batch 1:  Loss:     0.0239 Accuracy: 0.759600\n",
      "Epoch 46, CIFAR-10 Batch 2:  Loss:     0.0138 Accuracy: 0.769600\n",
      "Epoch 46, CIFAR-10 Batch 3:  Loss:     0.0097 Accuracy: 0.768000\n",
      "Epoch 46, CIFAR-10 Batch 4:  Loss:     0.0154 Accuracy: 0.770000\n",
      "Epoch 46, CIFAR-10 Batch 5:  Loss:     0.0193 Accuracy: 0.749800\n",
      "Epoch 47, CIFAR-10 Batch 1:  Loss:     0.0121 Accuracy: 0.762600\n",
      "Epoch 47, CIFAR-10 Batch 2:  Loss:     0.0131 Accuracy: 0.773800\n",
      "Epoch 47, CIFAR-10 Batch 3:  Loss:     0.0097 Accuracy: 0.765600\n",
      "Epoch 47, CIFAR-10 Batch 4:  Loss:     0.0241 Accuracy: 0.761800\n",
      "Epoch 47, CIFAR-10 Batch 5:  Loss:     0.0106 Accuracy: 0.764200\n",
      "Epoch 48, CIFAR-10 Batch 1:  Loss:     0.0148 Accuracy: 0.765600\n",
      "Epoch 48, CIFAR-10 Batch 2:  Loss:     0.0146 Accuracy: 0.775000\n",
      "Epoch 48, CIFAR-10 Batch 3:  Loss:     0.0087 Accuracy: 0.768400\n",
      "Epoch 48, CIFAR-10 Batch 4:  Loss:     0.0297 Accuracy: 0.766800\n",
      "Epoch 48, CIFAR-10 Batch 5:  Loss:     0.0181 Accuracy: 0.760800\n",
      "Epoch 49, CIFAR-10 Batch 1:  Loss:     0.0125 Accuracy: 0.756800\n",
      "Epoch 49, CIFAR-10 Batch 2:  Loss:     0.0104 Accuracy: 0.765800\n",
      "Epoch 49, CIFAR-10 Batch 3:  Loss:     0.0054 Accuracy: 0.765200\n",
      "Epoch 49, CIFAR-10 Batch 4:  Loss:     0.0113 Accuracy: 0.770000\n",
      "Epoch 49, CIFAR-10 Batch 5:  Loss:     0.0076 Accuracy: 0.770000\n",
      "Epoch 50, CIFAR-10 Batch 1:  Loss:     0.0100 Accuracy: 0.763800\n",
      "Epoch 50, CIFAR-10 Batch 2:  Loss:     0.0084 Accuracy: 0.765600\n",
      "Epoch 50, CIFAR-10 Batch 3:  Loss:     0.0101 Accuracy: 0.756200\n",
      "Epoch 50, CIFAR-10 Batch 4:  Loss:     0.0111 Accuracy: 0.768600\n",
      "Epoch 50, CIFAR-10 Batch 5:  Loss:     0.0099 Accuracy: 0.771400\n",
      "Epoch 51, CIFAR-10 Batch 1:  Loss:     0.0077 Accuracy: 0.758200\n",
      "Epoch 51, CIFAR-10 Batch 2:  Loss:     0.0091 Accuracy: 0.768800\n",
      "Epoch 51, CIFAR-10 Batch 3:  Loss:     0.0056 Accuracy: 0.771200\n",
      "Epoch 51, CIFAR-10 Batch 4:  Loss:     0.0091 Accuracy: 0.769400\n",
      "Epoch 51, CIFAR-10 Batch 5:  Loss:     0.0077 Accuracy: 0.765000\n",
      "Epoch 52, CIFAR-10 Batch 1:  Loss:     0.0178 Accuracy: 0.765000\n",
      "Epoch 52, CIFAR-10 Batch 2:  Loss:     0.0086 Accuracy: 0.767600\n",
      "Epoch 52, CIFAR-10 Batch 3:  Loss:     0.0047 Accuracy: 0.767600\n",
      "Epoch 52, CIFAR-10 Batch 4:  Loss:     0.0087 Accuracy: 0.768200\n",
      "Epoch 52, CIFAR-10 Batch 5:  Loss:     0.0072 Accuracy: 0.762200\n",
      "Epoch 53, CIFAR-10 Batch 1:  Loss:     0.0196 Accuracy: 0.757400\n",
      "Epoch 53, CIFAR-10 Batch 2:  Loss:     0.0101 Accuracy: 0.763600\n",
      "Epoch 53, CIFAR-10 Batch 3:  Loss:     0.0054 Accuracy: 0.770200\n",
      "Epoch 53, CIFAR-10 Batch 4:  Loss:     0.0308 Accuracy: 0.769600\n",
      "Epoch 53, CIFAR-10 Batch 5:  Loss:     0.0062 Accuracy: 0.776000\n",
      "Epoch 54, CIFAR-10 Batch 1:  Loss:     0.0092 Accuracy: 0.756000\n",
      "Epoch 54, CIFAR-10 Batch 2:  Loss:     0.0070 Accuracy: 0.769000\n",
      "Epoch 54, CIFAR-10 Batch 3:  Loss:     0.0059 Accuracy: 0.760800\n",
      "Epoch 54, CIFAR-10 Batch 4:  Loss:     0.0103 Accuracy: 0.778400\n",
      "Epoch 54, CIFAR-10 Batch 5:  Loss:     0.0100 Accuracy: 0.768000\n",
      "Epoch 55, CIFAR-10 Batch 1:  Loss:     0.0057 Accuracy: 0.759000\n",
      "Epoch 55, CIFAR-10 Batch 2:  Loss:     0.0052 Accuracy: 0.773600\n",
      "Epoch 55, CIFAR-10 Batch 3:  Loss:     0.0051 Accuracy: 0.773600\n",
      "Epoch 55, CIFAR-10 Batch 4:  Loss:     0.0130 Accuracy: 0.762000\n",
      "Epoch 55, CIFAR-10 Batch 5:  Loss:     0.0170 Accuracy: 0.762000\n",
      "Epoch 56, CIFAR-10 Batch 1:  Loss:     0.0115 Accuracy: 0.763000\n",
      "Epoch 56, CIFAR-10 Batch 2:  Loss:     0.0070 Accuracy: 0.764000\n",
      "Epoch 56, CIFAR-10 Batch 3:  Loss:     0.0058 Accuracy: 0.763000\n",
      "Epoch 56, CIFAR-10 Batch 4:  Loss:     0.0126 Accuracy: 0.769800\n",
      "Epoch 56, CIFAR-10 Batch 5:  Loss:     0.0077 Accuracy: 0.760000\n",
      "Epoch 57, CIFAR-10 Batch 1:  Loss:     0.0130 Accuracy: 0.761200\n",
      "Epoch 57, CIFAR-10 Batch 2:  Loss:     0.0073 Accuracy: 0.771000\n",
      "Epoch 57, CIFAR-10 Batch 3:  Loss:     0.0064 Accuracy: 0.766800\n",
      "Epoch 57, CIFAR-10 Batch 4:  Loss:     0.0116 Accuracy: 0.769000\n",
      "Epoch 57, CIFAR-10 Batch 5:  Loss:     0.0045 Accuracy: 0.773000\n",
      "Epoch 58, CIFAR-10 Batch 1:  Loss:     0.0137 Accuracy: 0.761200\n",
      "Epoch 58, CIFAR-10 Batch 2:  Loss:     0.0032 Accuracy: 0.767800\n",
      "Epoch 58, CIFAR-10 Batch 3:  Loss:     0.0044 Accuracy: 0.767000\n",
      "Epoch 58, CIFAR-10 Batch 4:  Loss:     0.0104 Accuracy: 0.770400\n",
      "Epoch 58, CIFAR-10 Batch 5:  Loss:     0.0113 Accuracy: 0.767000\n",
      "Epoch 59, CIFAR-10 Batch 1:  Loss:     0.0090 Accuracy: 0.754400\n",
      "Epoch 59, CIFAR-10 Batch 2:  Loss:     0.0059 Accuracy: 0.770800\n",
      "Epoch 59, CIFAR-10 Batch 3:  Loss:     0.0041 Accuracy: 0.767800\n",
      "Epoch 59, CIFAR-10 Batch 4:  Loss:     0.0070 Accuracy: 0.776600\n",
      "Epoch 59, CIFAR-10 Batch 5:  Loss:     0.0051 Accuracy: 0.770200\n",
      "Epoch 60, CIFAR-10 Batch 1:  Loss:     0.0076 Accuracy: 0.770600\n",
      "Epoch 60, CIFAR-10 Batch 2:  Loss:     0.0057 Accuracy: 0.761800\n",
      "Epoch 60, CIFAR-10 Batch 3:  Loss:     0.0016 Accuracy: 0.772600\n",
      "Epoch 60, CIFAR-10 Batch 4:  Loss:     0.0102 Accuracy: 0.764200\n",
      "Epoch 60, CIFAR-10 Batch 5:  Loss:     0.0049 Accuracy: 0.771200\n",
      "Epoch 61, CIFAR-10 Batch 1:  Loss:     0.0092 Accuracy: 0.760200\n",
      "Epoch 61, CIFAR-10 Batch 2:  Loss:     0.0041 Accuracy: 0.765200\n",
      "Epoch 61, CIFAR-10 Batch 3:  Loss:     0.0043 Accuracy: 0.756000\n",
      "Epoch 61, CIFAR-10 Batch 4:  Loss:     0.0082 Accuracy: 0.770400\n",
      "Epoch 61, CIFAR-10 Batch 5:  Loss:     0.0054 Accuracy: 0.765600\n",
      "Epoch 62, CIFAR-10 Batch 1:  Loss:     0.0050 Accuracy: 0.769000\n",
      "Epoch 62, CIFAR-10 Batch 2:  Loss:     0.0056 Accuracy: 0.769000\n",
      "Epoch 62, CIFAR-10 Batch 3:  Loss:     0.0031 Accuracy: 0.766800\n",
      "Epoch 62, CIFAR-10 Batch 4:  Loss:     0.0037 Accuracy: 0.772000\n",
      "Epoch 62, CIFAR-10 Batch 5:  Loss:     0.0093 Accuracy: 0.756800\n",
      "Epoch 63, CIFAR-10 Batch 1:  Loss:     0.0169 Accuracy: 0.770200\n",
      "Epoch 63, CIFAR-10 Batch 2:  Loss:     0.0082 Accuracy: 0.776400\n",
      "Epoch 63, CIFAR-10 Batch 3:  Loss:     0.0055 Accuracy: 0.753400\n",
      "Epoch 63, CIFAR-10 Batch 4:  Loss:     0.0078 Accuracy: 0.762800\n",
      "Epoch 63, CIFAR-10 Batch 5:  Loss:     0.0067 Accuracy: 0.763200\n",
      "Epoch 64, CIFAR-10 Batch 1:  Loss:     0.0069 Accuracy: 0.760800\n",
      "Epoch 64, CIFAR-10 Batch 2:  Loss:     0.0029 Accuracy: 0.761200\n",
      "Epoch 64, CIFAR-10 Batch 3:  Loss:     0.0025 Accuracy: 0.766000\n",
      "Epoch 64, CIFAR-10 Batch 4:  Loss:     0.0050 Accuracy: 0.771000\n",
      "Epoch 64, CIFAR-10 Batch 5:  Loss:     0.0046 Accuracy: 0.771200\n",
      "Epoch 65, CIFAR-10 Batch 1:  Loss:     0.0059 Accuracy: 0.774800\n",
      "Epoch 65, CIFAR-10 Batch 2:  Loss:     0.0073 Accuracy: 0.773800\n",
      "Epoch 65, CIFAR-10 Batch 3:  Loss:     0.0030 Accuracy: 0.768800\n",
      "Epoch 65, CIFAR-10 Batch 4:  Loss:     0.0105 Accuracy: 0.763200\n",
      "Epoch 65, CIFAR-10 Batch 5:  Loss:     0.0033 Accuracy: 0.772800\n",
      "Epoch 66, CIFAR-10 Batch 1:  Loss:     0.0295 Accuracy: 0.769600\n",
      "Epoch 66, CIFAR-10 Batch 2:  Loss:     0.0072 Accuracy: 0.755200\n",
      "Epoch 66, CIFAR-10 Batch 3:  Loss:     0.0035 Accuracy: 0.766600\n",
      "Epoch 66, CIFAR-10 Batch 4:  Loss:     0.0028 Accuracy: 0.771000\n",
      "Epoch 66, CIFAR-10 Batch 5:  Loss:     0.0060 Accuracy: 0.767800\n",
      "Epoch 67, CIFAR-10 Batch 1:  Loss:     0.0366 Accuracy: 0.765200\n",
      "Epoch 67, CIFAR-10 Batch 2:  Loss:     0.0027 Accuracy: 0.772600\n",
      "Epoch 67, CIFAR-10 Batch 3:  Loss:     0.0041 Accuracy: 0.761000\n",
      "Epoch 67, CIFAR-10 Batch 4:  Loss:     0.0028 Accuracy: 0.771800\n",
      "Epoch 67, CIFAR-10 Batch 5:  Loss:     0.0057 Accuracy: 0.769400\n",
      "Epoch 68, CIFAR-10 Batch 1:  Loss:     0.0101 Accuracy: 0.771200\n",
      "Epoch 68, CIFAR-10 Batch 2:  Loss:     0.0023 Accuracy: 0.774800\n",
      "Epoch 68, CIFAR-10 Batch 3:  Loss:     0.0025 Accuracy: 0.769200\n",
      "Epoch 68, CIFAR-10 Batch 4:  Loss:     0.0030 Accuracy: 0.765600\n",
      "Epoch 68, CIFAR-10 Batch 5:  Loss:     0.0025 Accuracy: 0.770000\n",
      "Epoch 69, CIFAR-10 Batch 1:  Loss:     0.0091 Accuracy: 0.771400\n",
      "Epoch 69, CIFAR-10 Batch 2:  Loss:     0.0058 Accuracy: 0.769600\n",
      "Epoch 69, CIFAR-10 Batch 3:  Loss:     0.0061 Accuracy: 0.762000\n",
      "Epoch 69, CIFAR-10 Batch 4:  Loss:     0.0016 Accuracy: 0.768200\n",
      "Epoch 69, CIFAR-10 Batch 5:  Loss:     0.0036 Accuracy: 0.773000\n",
      "Epoch 70, CIFAR-10 Batch 1:  Loss:     0.0153 Accuracy: 0.762400\n",
      "Epoch 70, CIFAR-10 Batch 2:  Loss:     0.0028 Accuracy: 0.774200\n",
      "Epoch 70, CIFAR-10 Batch 3:  Loss:     0.0026 Accuracy: 0.771600\n",
      "Epoch 70, CIFAR-10 Batch 4:  Loss:     0.0067 Accuracy: 0.767800\n",
      "Epoch 70, CIFAR-10 Batch 5:  Loss:     0.0034 Accuracy: 0.776200\n",
      "Epoch 71, CIFAR-10 Batch 1:  Loss:     0.0073 Accuracy: 0.775200\n",
      "Epoch 71, CIFAR-10 Batch 2:  Loss:     0.0095 Accuracy: 0.772200\n",
      "Epoch 71, CIFAR-10 Batch 3:  Loss:     0.0031 Accuracy: 0.773200\n",
      "Epoch 71, CIFAR-10 Batch 4:  Loss:     0.0015 Accuracy: 0.773000\n",
      "Epoch 71, CIFAR-10 Batch 5:  Loss:     0.0084 Accuracy: 0.767000\n",
      "Epoch 72, CIFAR-10 Batch 1:  Loss:     0.0015 Accuracy: 0.764600\n",
      "Epoch 72, CIFAR-10 Batch 2:  Loss:     0.0019 Accuracy: 0.775600\n",
      "Epoch 72, CIFAR-10 Batch 3:  Loss:     0.0078 Accuracy: 0.777000\n",
      "Epoch 72, CIFAR-10 Batch 4:  Loss:     0.0019 Accuracy: 0.772200\n",
      "Epoch 72, CIFAR-10 Batch 5:  Loss:     0.0075 Accuracy: 0.771400\n",
      "Epoch 73, CIFAR-10 Batch 1:  Loss:     0.0067 Accuracy: 0.767400\n",
      "Epoch 73, CIFAR-10 Batch 2:  Loss:     0.0023 Accuracy: 0.764000\n",
      "Epoch 73, CIFAR-10 Batch 3:  Loss:     0.0021 Accuracy: 0.774200\n",
      "Epoch 73, CIFAR-10 Batch 4:  Loss:     0.0007 Accuracy: 0.777800\n",
      "Epoch 73, CIFAR-10 Batch 5:  Loss:     0.0058 Accuracy: 0.775800\n",
      "Epoch 74, CIFAR-10 Batch 1:  Loss:     0.0082 Accuracy: 0.776000\n",
      "Epoch 74, CIFAR-10 Batch 2:  Loss:     0.0021 Accuracy: 0.777600\n",
      "Epoch 74, CIFAR-10 Batch 3:  Loss:     0.0038 Accuracy: 0.761800\n",
      "Epoch 74, CIFAR-10 Batch 4:  Loss:     0.0022 Accuracy: 0.781800\n",
      "Epoch 74, CIFAR-10 Batch 5:  Loss:     0.0056 Accuracy: 0.763600\n",
      "Epoch 75, CIFAR-10 Batch 1:  Loss:     0.0019 Accuracy: 0.770400\n",
      "Epoch 75, CIFAR-10 Batch 2:  Loss:     0.0025 Accuracy: 0.777000\n",
      "Epoch 75, CIFAR-10 Batch 3:  Loss:     0.0045 Accuracy: 0.767000\n",
      "Epoch 75, CIFAR-10 Batch 4:  Loss:     0.0015 Accuracy: 0.773800\n",
      "Epoch 75, CIFAR-10 Batch 5:  Loss:     0.0040 Accuracy: 0.773200\n",
      "Epoch 76, CIFAR-10 Batch 1:  Loss:     0.0064 Accuracy: 0.769000\n",
      "Epoch 76, CIFAR-10 Batch 2:  Loss:     0.0020 Accuracy: 0.774600\n",
      "Epoch 76, CIFAR-10 Batch 3:  Loss:     0.0010 Accuracy: 0.777000\n",
      "Epoch 76, CIFAR-10 Batch 4:  Loss:     0.0013 Accuracy: 0.776800\n",
      "Epoch 76, CIFAR-10 Batch 5:  Loss:     0.0055 Accuracy: 0.770000\n",
      "Epoch 77, CIFAR-10 Batch 1:  Loss:     0.0016 Accuracy: 0.767000\n",
      "Epoch 77, CIFAR-10 Batch 2:  Loss:     0.0014 Accuracy: 0.772600\n",
      "Epoch 77, CIFAR-10 Batch 3:  Loss:     0.0035 Accuracy: 0.766600\n",
      "Epoch 77, CIFAR-10 Batch 4:  Loss:     0.0007 Accuracy: 0.776200\n",
      "Epoch 77, CIFAR-10 Batch 5:  Loss:     0.0036 Accuracy: 0.774600\n",
      "Epoch 78, CIFAR-10 Batch 1:  Loss:     0.0029 Accuracy: 0.777600\n",
      "Epoch 78, CIFAR-10 Batch 2:  Loss:     0.0047 Accuracy: 0.766800\n",
      "Epoch 78, CIFAR-10 Batch 3:  Loss:     0.0014 Accuracy: 0.775600\n",
      "Epoch 78, CIFAR-10 Batch 4:  Loss:     0.0093 Accuracy: 0.768000\n",
      "Epoch 78, CIFAR-10 Batch 5:  Loss:     0.0019 Accuracy: 0.769600\n",
      "Epoch 79, CIFAR-10 Batch 1:  Loss:     0.0010 Accuracy: 0.778400\n",
      "Epoch 79, CIFAR-10 Batch 2:  Loss:     0.0038 Accuracy: 0.776600\n",
      "Epoch 79, CIFAR-10 Batch 3:  Loss:     0.0009 Accuracy: 0.768600\n",
      "Epoch 79, CIFAR-10 Batch 4:  Loss:     0.0042 Accuracy: 0.780600\n",
      "Epoch 79, CIFAR-10 Batch 5:  Loss:     0.0018 Accuracy: 0.781000\n",
      "Epoch 80, CIFAR-10 Batch 1:  Loss:     0.0013 Accuracy: 0.773000\n",
      "Epoch 80, CIFAR-10 Batch 2:  Loss:     0.0037 Accuracy: 0.771000\n",
      "Epoch 80, CIFAR-10 Batch 3:  Loss:     0.0009 Accuracy: 0.772000\n",
      "Epoch 80, CIFAR-10 Batch 4:  Loss:     0.0057 Accuracy: 0.775200\n",
      "Epoch 80, CIFAR-10 Batch 5:  Loss:     0.0039 Accuracy: 0.772800\n",
      "Epoch 81, CIFAR-10 Batch 1:  Loss:     0.0032 Accuracy: 0.767200\n",
      "Epoch 81, CIFAR-10 Batch 2:  Loss:     0.0007 Accuracy: 0.775800\n",
      "Epoch 81, CIFAR-10 Batch 3:  Loss:     0.0004 Accuracy: 0.766400\n",
      "Epoch 81, CIFAR-10 Batch 4:  Loss:     0.0005 Accuracy: 0.770800\n",
      "Epoch 81, CIFAR-10 Batch 5:  Loss:     0.0020 Accuracy: 0.779800\n",
      "Epoch 82, CIFAR-10 Batch 1:  Loss:     0.0012 Accuracy: 0.771000\n",
      "Epoch 82, CIFAR-10 Batch 2:  Loss:     0.0023 Accuracy: 0.777400\n",
      "Epoch 82, CIFAR-10 Batch 3:  Loss:     0.0006 Accuracy: 0.767200\n",
      "Epoch 82, CIFAR-10 Batch 4:  Loss:     0.0005 Accuracy: 0.775000\n",
      "Epoch 82, CIFAR-10 Batch 5:  Loss:     0.0135 Accuracy: 0.766400\n",
      "Epoch 83, CIFAR-10 Batch 1:  Loss:     0.0005 Accuracy: 0.769200\n",
      "Epoch 83, CIFAR-10 Batch 2:  Loss:     0.0014 Accuracy: 0.775000\n",
      "Epoch 83, CIFAR-10 Batch 3:  Loss:     0.0019 Accuracy: 0.764000\n",
      "Epoch 83, CIFAR-10 Batch 4:  Loss:     0.0059 Accuracy: 0.770400\n",
      "Epoch 83, CIFAR-10 Batch 5:  Loss:     0.0036 Accuracy: 0.762600\n",
      "Epoch 84, CIFAR-10 Batch 1:  Loss:     0.0021 Accuracy: 0.778800\n",
      "Epoch 84, CIFAR-10 Batch 2:  Loss:     0.0030 Accuracy: 0.771600\n",
      "Epoch 84, CIFAR-10 Batch 3:  Loss:     0.0070 Accuracy: 0.775200\n",
      "Epoch 84, CIFAR-10 Batch 4:  Loss:     0.0006 Accuracy: 0.776600\n",
      "Epoch 84, CIFAR-10 Batch 5:  Loss:     0.0019 Accuracy: 0.776000\n",
      "Epoch 85, CIFAR-10 Batch 1:  Loss:     0.0019 Accuracy: 0.781000\n",
      "Epoch 85, CIFAR-10 Batch 2:  Loss:     0.0018 Accuracy: 0.769800\n",
      "Epoch 85, CIFAR-10 Batch 3:  Loss:     0.0009 Accuracy: 0.771400\n",
      "Epoch 85, CIFAR-10 Batch 4:  Loss:     0.0008 Accuracy: 0.764000\n",
      "Epoch 85, CIFAR-10 Batch 5:  Loss:     0.0016 Accuracy: 0.775800\n",
      "Epoch 86, CIFAR-10 Batch 1:  Loss:     0.0007 Accuracy: 0.779000\n",
      "Epoch 86, CIFAR-10 Batch 2:  Loss:     0.0015 Accuracy: 0.776600\n",
      "Epoch 86, CIFAR-10 Batch 3:  Loss:     0.0013 Accuracy: 0.770200\n",
      "Epoch 86, CIFAR-10 Batch 4:  Loss:     0.0039 Accuracy: 0.778000\n",
      "Epoch 86, CIFAR-10 Batch 5:  Loss:     0.0010 Accuracy: 0.775800\n",
      "Epoch 87, CIFAR-10 Batch 1:  Loss:     0.0083 Accuracy: 0.777000\n",
      "Epoch 87, CIFAR-10 Batch 2:  Loss:     0.0022 Accuracy: 0.767200\n",
      "Epoch 87, CIFAR-10 Batch 3:  Loss:     0.0089 Accuracy: 0.767600\n",
      "Epoch 87, CIFAR-10 Batch 4:  Loss:     0.0019 Accuracy: 0.768000\n",
      "Epoch 87, CIFAR-10 Batch 5:  Loss:     0.0091 Accuracy: 0.775000\n",
      "Epoch 88, CIFAR-10 Batch 1:  Loss:     0.0023 Accuracy: 0.780400\n",
      "Epoch 88, CIFAR-10 Batch 2:  Loss:     0.0010 Accuracy: 0.778000\n",
      "Epoch 88, CIFAR-10 Batch 3:  Loss:     0.0016 Accuracy: 0.776400\n",
      "Epoch 88, CIFAR-10 Batch 4:  Loss:     0.0005 Accuracy: 0.777600\n",
      "Epoch 88, CIFAR-10 Batch 5:  Loss:     0.0027 Accuracy: 0.770800\n",
      "Epoch 89, CIFAR-10 Batch 1:  Loss:     0.0034 Accuracy: 0.777200\n",
      "Epoch 89, CIFAR-10 Batch 2:  Loss:     0.0015 Accuracy: 0.780600\n",
      "Epoch 89, CIFAR-10 Batch 3:  Loss:     0.0014 Accuracy: 0.775200\n",
      "Epoch 89, CIFAR-10 Batch 4:  Loss:     0.0015 Accuracy: 0.774400\n",
      "Epoch 89, CIFAR-10 Batch 5:  Loss:     0.0023 Accuracy: 0.770200\n",
      "Epoch 90, CIFAR-10 Batch 1:  Loss:     0.0013 Accuracy: 0.775400\n",
      "Epoch 90, CIFAR-10 Batch 2:  Loss:     0.0014 Accuracy: 0.768600\n",
      "Epoch 90, CIFAR-10 Batch 3:  Loss:     0.0038 Accuracy: 0.772200\n",
      "Epoch 90, CIFAR-10 Batch 4:  Loss:     0.0016 Accuracy: 0.778000\n",
      "Epoch 90, CIFAR-10 Batch 5:  Loss:     0.0029 Accuracy: 0.774200\n",
      "Epoch 91, CIFAR-10 Batch 1:  Loss:     0.0020 Accuracy: 0.770000\n",
      "Epoch 91, CIFAR-10 Batch 2:  Loss:     0.0009 Accuracy: 0.775800\n",
      "Epoch 91, CIFAR-10 Batch 3:  Loss:     0.0014 Accuracy: 0.769000\n",
      "Epoch 91, CIFAR-10 Batch 4:  Loss:     0.0011 Accuracy: 0.775000\n",
      "Epoch 91, CIFAR-10 Batch 5:  Loss:     0.0027 Accuracy: 0.775800\n",
      "Epoch 92, CIFAR-10 Batch 1:  Loss:     0.0015 Accuracy: 0.775400\n",
      "Epoch 92, CIFAR-10 Batch 2:  Loss:     0.0013 Accuracy: 0.772400\n",
      "Epoch 92, CIFAR-10 Batch 3:  Loss:     0.0011 Accuracy: 0.767400\n",
      "Epoch 92, CIFAR-10 Batch 4:  Loss:     0.0011 Accuracy: 0.769600\n",
      "Epoch 92, CIFAR-10 Batch 5:  Loss:     0.0008 Accuracy: 0.767800\n",
      "Epoch 93, CIFAR-10 Batch 1:  Loss:     0.0008 Accuracy: 0.770600\n",
      "Epoch 93, CIFAR-10 Batch 2:  Loss:     0.0013 Accuracy: 0.769600\n",
      "Epoch 93, CIFAR-10 Batch 3:  Loss:     0.0006 Accuracy: 0.769800\n",
      "Epoch 93, CIFAR-10 Batch 4:  Loss:     0.0015 Accuracy: 0.775200\n",
      "Epoch 93, CIFAR-10 Batch 5:  Loss:     0.0012 Accuracy: 0.770200\n",
      "Epoch 94, CIFAR-10 Batch 1:  Loss:     0.0012 Accuracy: 0.772800\n",
      "Epoch 94, CIFAR-10 Batch 2:  Loss:     0.0005 Accuracy: 0.768600\n",
      "Epoch 94, CIFAR-10 Batch 3:  Loss:     0.0015 Accuracy: 0.768400\n",
      "Epoch 94, CIFAR-10 Batch 4:  Loss:     0.0013 Accuracy: 0.776600\n",
      "Epoch 94, CIFAR-10 Batch 5:  Loss:     0.0014 Accuracy: 0.773800\n",
      "Epoch 95, CIFAR-10 Batch 1:  Loss:     0.0026 Accuracy: 0.774400\n",
      "Epoch 95, CIFAR-10 Batch 2:  Loss:     0.0003 Accuracy: 0.774600\n",
      "Epoch 95, CIFAR-10 Batch 3:  Loss:     0.0015 Accuracy: 0.762200\n",
      "Epoch 95, CIFAR-10 Batch 4:  Loss:     0.0017 Accuracy: 0.767000\n",
      "Epoch 95, CIFAR-10 Batch 5:  Loss:     0.0009 Accuracy: 0.774000\n",
      "Epoch 96, CIFAR-10 Batch 1:  Loss:     0.0015 Accuracy: 0.769800\n",
      "Epoch 96, CIFAR-10 Batch 2:  Loss:     0.0005 Accuracy: 0.771200\n",
      "Epoch 96, CIFAR-10 Batch 3:  Loss:     0.0016 Accuracy: 0.761400\n",
      "Epoch 96, CIFAR-10 Batch 4:  Loss:     0.0010 Accuracy: 0.778400\n",
      "Epoch 96, CIFAR-10 Batch 5:  Loss:     0.0008 Accuracy: 0.768200\n",
      "Epoch 97, CIFAR-10 Batch 1:  Loss:     0.0017 Accuracy: 0.772400\n",
      "Epoch 97, CIFAR-10 Batch 2:  Loss:     0.0005 Accuracy: 0.772600\n",
      "Epoch 97, CIFAR-10 Batch 3:  Loss:     0.0009 Accuracy: 0.773000\n",
      "Epoch 97, CIFAR-10 Batch 4:  Loss:     0.0008 Accuracy: 0.774600\n",
      "Epoch 97, CIFAR-10 Batch 5:  Loss:     0.0013 Accuracy: 0.770400\n",
      "Epoch 98, CIFAR-10 Batch 1:  Loss:     0.0021 Accuracy: 0.773800\n",
      "Epoch 98, CIFAR-10 Batch 2:  Loss:     0.0017 Accuracy: 0.764800\n",
      "Epoch 98, CIFAR-10 Batch 3:  Loss:     0.0011 Accuracy: 0.768600\n",
      "Epoch 98, CIFAR-10 Batch 4:  Loss:     0.0023 Accuracy: 0.773400\n",
      "Epoch 98, CIFAR-10 Batch 5:  Loss:     0.0007 Accuracy: 0.776200\n",
      "Epoch 99, CIFAR-10 Batch 1:  Loss:     0.0014 Accuracy: 0.771600\n",
      "Epoch 99, CIFAR-10 Batch 2:  Loss:     0.0005 Accuracy: 0.772000\n",
      "Epoch 99, CIFAR-10 Batch 3:  Loss:     0.0022 Accuracy: 0.775600\n",
      "Epoch 99, CIFAR-10 Batch 4:  Loss:     0.0004 Accuracy: 0.781200\n",
      "Epoch 99, CIFAR-10 Batch 5:  Loss:     0.0036 Accuracy: 0.777000\n",
      "Epoch 100, CIFAR-10 Batch 1:  Loss:     0.0004 Accuracy: 0.778200\n",
      "Epoch 100, CIFAR-10 Batch 2:  Loss:     0.0006 Accuracy: 0.779800\n",
      "Epoch 100, CIFAR-10 Batch 3:  Loss:     0.0019 Accuracy: 0.779200\n",
      "Epoch 100, CIFAR-10 Batch 4:  Loss:     0.0009 Accuracy: 0.775800\n",
      "Epoch 100, CIFAR-10 Batch 5:  Loss:     0.0009 Accuracy: 0.775400\n"
     ]
    }
   ],
   "source": [
    "\"\"\"\n",
    "DON'T MODIFY ANYTHING IN THIS CELL\n",
    "\"\"\"\n",
    "save_model_path = './image_classification'\n",
    "\n",
    "print('Training...')\n",
    "with tf.Session() as sess:\n",
    "    # Initializing the variables\n",
    "    sess.run(tf.global_variables_initializer())\n",
    "    \n",
    "    # Training cycle\n",
    "    for epoch in range(epochs):\n",
    "        # Loop over all batches\n",
    "        n_batches = 5\n",
    "        for batch_i in range(1, n_batches + 1):\n",
    "            for batch_features, batch_labels in helper.load_preprocess_training_batch(batch_i, batch_size):\n",
    "                train_neural_network(sess, optimizer, keep_probability, batch_features, batch_labels)\n",
    "            print('Epoch {:>2}, CIFAR-10 Batch {}:  '.format(epoch + 1, batch_i), end='')\n",
    "            print_stats(sess, batch_features, batch_labels, cost, accuracy)\n",
    "            \n",
    "    # Save Model\n",
    "    saver = tf.train.Saver()\n",
    "    save_path = saver.save(sess, save_model_path)"
   ]
  },
  {
   "cell_type": "markdown",
   "metadata": {
    "deletable": true,
    "editable": true
   },
   "source": [
    "# Checkpoint\n",
    "The model has been saved to disk.\n",
    "## Test Model\n",
    "Test your model against the test dataset.  This will be your final accuracy. You should have an accuracy greater than 50%. If you don't, keep tweaking the model architecture and parameters."
   ]
  },
  {
   "cell_type": "code",
   "execution_count": 18,
   "metadata": {
    "collapsed": false,
    "deletable": true,
    "editable": true
   },
   "outputs": [
    {
     "name": "stdout",
     "output_type": "stream",
     "text": [
      "Testing Accuracy: 0.7714596518987342\n",
      "\n"
     ]
    },
    {
     "data": {
      "image/png": "[encoded data removed]",
      "text/plain": [
       "<matplotlib.figure.Figure at 0x7fbd41d85f28>"
      ]
     },
     "metadata": {
      "image/png": {
       "height": 319,
       "width": 349
      }
     },
     "output_type": "display_data"
    }
   ],
   "source": [
    "\"\"\"\n",
    "DON'T MODIFY ANYTHING IN THIS CELL\n",
    "\"\"\"\n",
    "%matplotlib inline\n",
    "%config InlineBackend.figure_format = 'retina'\n",
    "\n",
    "import tensorflow as tf\n",
    "import pickle\n",
    "import helper\n",
    "import random\n",
    "\n",
    "# Set batch size if not already set\n",
    "try:\n",
    "    if batch_size:\n",
    "        pass\n",
    "except NameError:\n",
    "    batch_size = 64\n",
    "\n",
    "save_model_path = './image_classification'\n",
    "n_samples = 4\n",
    "top_n_predictions = 3\n",
    "\n",
    "def test_model():\n",
    "    \"\"\"\n",
    "    Test the saved model against the test dataset\n",
    "    \"\"\"\n",
    "\n",
    "    test_features, test_labels = pickle.load(open('preprocess_test.p', mode='rb'))\n",
    "    loaded_graph = tf.Graph()\n",
    "\n",
    "    with tf.Session(graph=loaded_graph) as sess:\n",
    "        # Load model\n",
    "        loader = tf.train.import_meta_graph(save_model_path + '.meta')\n",
    "        loader.restore(sess, save_model_path)\n",
    "\n",
    "        # Get Tensors from loaded model\n",
    "        loaded_x = loaded_graph.get_tensor_by_name('x:0')\n",
    "        loaded_y = loaded_graph.get_tensor_by_name('y:0')\n",
    "        loaded_keep_prob = loaded_graph.get_tensor_by_name('keep_prob:0')\n",
    "        loaded_logits = loaded_graph.get_tensor_by_name('logits:0')\n",
    "        loaded_acc = loaded_graph.get_tensor_by_name('accuracy:0')\n",
    "        \n",
    "        # Get accuracy in batches for memory limitations\n",
    "        test_batch_acc_total = 0\n",
    "        test_batch_count = 0\n",
    "        \n",
    "        for test_feature_batch, test_label_batch in helper.batch_features_labels(test_features, test_labels, batch_size):\n",
    "            test_batch_acc_total += sess.run(\n",
    "                loaded_acc,\n",
    "                feed_dict={loaded_x: test_feature_batch, loaded_y: test_label_batch, loaded_keep_prob: 1.0})\n",
    "            test_batch_count += 1\n",
    "\n",
    "        print('Testing Accuracy: {}\\n'.format(test_batch_acc_total/test_batch_count))\n",
    "\n",
    "        # Print Random Samples\n",
    "        random_test_features, random_test_labels = tuple(zip(*random.sample(list(zip(test_features, test_labels)), n_samples)))\n",
    "        random_test_predictions = sess.run(\n",
    "            tf.nn.top_k(tf.nn.softmax(loaded_logits), top_n_predictions),\n",
    "            feed_dict={loaded_x: random_test_features, loaded_y: random_test_labels, loaded_keep_prob: 1.0})\n",
    "        helper.display_image_predictions(random_test_features, random_test_labels, random_test_predictions)\n",
    "\n",
    "\n",
    "test_model()"
   ]
  },
  {
   "cell_type": "markdown",
   "metadata": {
    "deletable": true,
    "editable": true
   },
   "source": [
    "## Why 50-80% Accuracy?\n",
    "You might be wondering why you can't get an accuracy any higher. First things first, 50% isn't bad for a simple CNN.  Pure guessing would get you 10% accuracy. However, you might notice people are getting scores [well above 80%](http://rodrigob.github.io/are_we_there_yet/build/classification_datasets_results.html#43494641522d3130).  That's because we haven't taught you all there is to know about neural networks. We still need to cover a few more techniques.\n",
    "## Submitting This Project\n",
    "When submitting this project, make sure to run all the cells before saving the notebook.  Save the notebook file as \"dlnd_image_classification.ipynb\" and save it as a HTML file under \"File\" -> \"Download as\".  Include the \"helper.py\" and \"problem_unittests.py\" files in your submission."
   ]
  }
 ],
 "metadata": {
  "kernelspec": {
   "display_name": "Python 3",
   "language": "python",
   "name": "python3"
  },
  "language_info": {
   "codemirror_mode": {
    "name": "ipython",
    "version": 3
   },
   "file_extension": ".py",
   "mimetype": "text/x-python",
   "name": "python",
   "nbconvert_exporter": "python",
   "pygments_lexer": "ipython3",
   "version": "3.5.2"
  },
  "widgets": {
   "state": {},
   "version": "1.1.2"
  }
 },
 "nbformat": 4,
 "nbformat_minor": 1
}
